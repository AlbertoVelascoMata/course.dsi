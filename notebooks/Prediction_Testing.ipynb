{
 "cells": [
  {
   "cell_type": "code",
   "execution_count": 14,
   "metadata": {},
   "outputs": [],
   "source": [
    "import warnings\n",
    "warnings.simplefilter(action='ignore', category=FutureWarning)\n",
    "\n",
    "import pandas as pd\n",
    "pd.set_option('display.max_columns', 500)\n",
    "import numpy as np\n",
    "import matplotlib.pyplot as plt\n",
    "import yaml"
   ]
  },
  {
   "cell_type": "code",
   "execution_count": 15,
   "metadata": {},
   "outputs": [],
   "source": [
    "with open('../data/matches.yml', 'r', encoding='utf8') as f:\n",
    "    matches = yaml.safe_load(f)"
   ]
  },
  {
   "cell_type": "markdown",
   "metadata": {},
   "source": [
    "# Check imported data to detect typos and other errors"
   ]
  },
  {
   "cell_type": "code",
   "execution_count": 16,
   "metadata": {},
   "outputs": [
    {
     "name": "stdout",
     "output_type": "stream",
     "text": [
      "Countries: 16\n"
     ]
    },
    {
     "data": {
      "text/plain": [
       "{'Alemania',\n",
       " 'Croacia',\n",
       " 'Dinamarca',\n",
       " 'Eslovenia',\n",
       " 'España',\n",
       " 'Francia',\n",
       " 'Hungría',\n",
       " 'Montenegro',\n",
       " 'Noruega',\n",
       " 'Países Bajos',\n",
       " 'Polonia',\n",
       " 'República Checa',\n",
       " 'Rumania',\n",
       " 'Rusia',\n",
       " 'Serbia',\n",
       " 'Suecia'}"
      ]
     },
     "execution_count": 16,
     "metadata": {},
     "output_type": "execute_result"
    }
   ],
   "source": [
    "countries = set()\n",
    "for phase in matches:\n",
    "    for group in matches[phase]:\n",
    "        for match in matches[phase][group]:\n",
    "            countries.update(list(match.keys()))\n",
    "\n",
    "print('Countries:', len(countries))\n",
    "countries"
   ]
  },
  {
   "cell_type": "code",
   "execution_count": 17,
   "metadata": {},
   "outputs": [],
   "source": [
    "df = pd.read_excel('../data/Handball Woman European Data Set.xlsx', index_col=0)"
   ]
  },
  {
   "cell_type": "code",
   "execution_count": 20,
   "metadata": {},
   "outputs": [
    {
     "data": {
      "text/plain": [
       "array(['FRA', 'MNE', 'DEN', 'SLO', 'RUS', 'ESP', 'SWE', 'CZE', 'HUN',\n",
       "       'CRO', 'ROU', 'GER', 'NOR', 'POL', 'NED', 'SRB '], dtype=object)"
      ]
     },
     "execution_count": 20,
     "metadata": {},
     "output_type": "execute_result"
    }
   ],
   "source": [
    "df['Team'].unique()"
   ]
  },
  {
   "cell_type": "markdown",
   "metadata": {},
   "source": [
    "# Utility functions"
   ]
  },
  {
   "cell_type": "code",
   "execution_count": 44,
   "metadata": {},
   "outputs": [],
   "source": [
    "def country_abbr(country_name):\n",
    "    return {\n",
    "        'Alemania': 'GER',\n",
    "        'Croacia': 'CRO',\n",
    "        'Dinamarca': 'DEN',\n",
    "        'Eslovenia': 'SLO',\n",
    "        'España': 'ESP',\n",
    "        'Francia': 'FRA',\n",
    "        'Hungría': 'HUN',\n",
    "        'Montenegro': 'MNE',\n",
    "        'Noruega': 'NOR',\n",
    "        'Países Bajos': 'NED',\n",
    "        'Polonia': 'POL',\n",
    "        'República Checa': 'CZE',\n",
    "        'Rumania': 'ROU',\n",
    "        'Rusia': 'RUS',\n",
    "        'Serbia': 'SRB',\n",
    "        'Suecia': 'SWE'\n",
    "    }[country_name]\n",
    "\n",
    "def get_match(matches, match_name):\n",
    "    for phase in matches:\n",
    "        for group in matches[phase]:\n",
    "            for match in matches[phase][group]:\n",
    "                teamA, teamB = match.keys()\n",
    "                teamA, teamB = country_abbr(teamA), country_abbr(teamB)\n",
    "                if match_name == f\"{teamA}-{teamB}\" or match_name == f\"{teamB}-{teamA}\":\n",
    "                    return match\n",
    "\n",
    "def get_result(match, team):\n",
    "    if len(team) > 3:\n",
    "        team = country_abbr(team)\n",
    "    \n",
    "    teamA, teamB = match.keys()\n",
    "    \n",
    "    if match[teamA] == match[teamB]:\n",
    "        return 0\n",
    "    else:\n",
    "        winner = teamA if match[teamA] > match[teamB] else teamB\n",
    "        if team == country_abbr(winner):\n",
    "            return 1\n",
    "        else:\n",
    "            return -1"
   ]
  },
  {
   "cell_type": "code",
   "execution_count": 54,
   "metadata": {},
   "outputs": [
    {
     "name": "stdout",
     "output_type": "stream",
     "text": [
      "{'Rusia': 30, 'Suecia': 26}\n"
     ]
    },
    {
     "data": {
      "text/plain": [
       "1"
      ]
     },
     "execution_count": 54,
     "metadata": {},
     "output_type": "execute_result"
    }
   ],
   "source": [
    "match = get_match(matches, 'RUS-SWE')\n",
    "print(match)\n",
    "get_result(match, 'Rusia')"
   ]
  },
  {
   "cell_type": "code",
   "execution_count": 30,
   "metadata": {},
   "outputs": [
    {
     "data": {
      "text/html": [
       "<div>\n",
       "<style scoped>\n",
       "    .dataframe tbody tr th:only-of-type {\n",
       "        vertical-align: middle;\n",
       "    }\n",
       "\n",
       "    .dataframe tbody tr th {\n",
       "        vertical-align: top;\n",
       "    }\n",
       "\n",
       "    .dataframe thead th {\n",
       "        text-align: right;\n",
       "    }\n",
       "</style>\n",
       "<table border=\"1\" class=\"dataframe\">\n",
       "  <thead>\n",
       "    <tr style=\"text-align: right;\">\n",
       "      <th></th>\n",
       "      <th>Phase</th>\n",
       "      <th>Match</th>\n",
       "      <th>Team</th>\n",
       "      <th>Goals</th>\n",
       "    </tr>\n",
       "  </thead>\n",
       "  <tbody>\n",
       "    <tr>\n",
       "      <th>0</th>\n",
       "      <td>3y4</td>\n",
       "      <td>CRO-DEN</td>\n",
       "      <td>CRO</td>\n",
       "      <td>25</td>\n",
       "    </tr>\n",
       "    <tr>\n",
       "      <th>1</th>\n",
       "      <td>3y4</td>\n",
       "      <td>CRO-DEN</td>\n",
       "      <td>DEN</td>\n",
       "      <td>19</td>\n",
       "    </tr>\n",
       "    <tr>\n",
       "      <th>2</th>\n",
       "      <td>5y6</td>\n",
       "      <td>RUS-NED</td>\n",
       "      <td>NED</td>\n",
       "      <td>27</td>\n",
       "    </tr>\n",
       "    <tr>\n",
       "      <th>3</th>\n",
       "      <td>5y6</td>\n",
       "      <td>RUS-NED</td>\n",
       "      <td>RUS</td>\n",
       "      <td>33</td>\n",
       "    </tr>\n",
       "    <tr>\n",
       "      <th>4</th>\n",
       "      <td>FINAL</td>\n",
       "      <td>FRA-NOR</td>\n",
       "      <td>FRA</td>\n",
       "      <td>20</td>\n",
       "    </tr>\n",
       "    <tr>\n",
       "      <th>...</th>\n",
       "      <td>...</td>\n",
       "      <td>...</td>\n",
       "      <td>...</td>\n",
       "      <td>...</td>\n",
       "    </tr>\n",
       "    <tr>\n",
       "      <th>89</th>\n",
       "      <td>PHASE1-D</td>\n",
       "      <td>ROU-NOR</td>\n",
       "      <td>ROU</td>\n",
       "      <td>20</td>\n",
       "    </tr>\n",
       "    <tr>\n",
       "      <th>90</th>\n",
       "      <td>SEMI</td>\n",
       "      <td>FRA-CRO</td>\n",
       "      <td>CRO</td>\n",
       "      <td>19</td>\n",
       "    </tr>\n",
       "    <tr>\n",
       "      <th>91</th>\n",
       "      <td>SEMI</td>\n",
       "      <td>FRA-CRO</td>\n",
       "      <td>FRA</td>\n",
       "      <td>30</td>\n",
       "    </tr>\n",
       "    <tr>\n",
       "      <th>92</th>\n",
       "      <td>SEMI</td>\n",
       "      <td>NOR-DEN</td>\n",
       "      <td>DEN</td>\n",
       "      <td>24</td>\n",
       "    </tr>\n",
       "    <tr>\n",
       "      <th>93</th>\n",
       "      <td>SEMI</td>\n",
       "      <td>NOR-DEN</td>\n",
       "      <td>NOR</td>\n",
       "      <td>27</td>\n",
       "    </tr>\n",
       "  </tbody>\n",
       "</table>\n",
       "<p>94 rows × 4 columns</p>\n",
       "</div>"
      ],
      "text/plain": [
       "       Phase    Match Team  Goals\n",
       "0        3y4  CRO-DEN  CRO     25\n",
       "1        3y4  CRO-DEN  DEN     19\n",
       "2        5y6  RUS-NED  NED     27\n",
       "3        5y6  RUS-NED  RUS     33\n",
       "4      FINAL  FRA-NOR  FRA     20\n",
       "..       ...      ...  ...    ...\n",
       "89  PHASE1-D  ROU-NOR  ROU     20\n",
       "90      SEMI  FRA-CRO  CRO     19\n",
       "91      SEMI  FRA-CRO  FRA     30\n",
       "92      SEMI  NOR-DEN  DEN     24\n",
       "93      SEMI  NOR-DEN  NOR     27\n",
       "\n",
       "[94 rows x 4 columns]"
      ]
     },
     "execution_count": 30,
     "metadata": {},
     "output_type": "execute_result"
    }
   ],
   "source": [
    "simplified_df = df[['Phase', 'Match', 'Team', 'Goals']]\n",
    "\n",
    "matches_df = simplified_df.groupby(['Phase', 'Match', 'Team']).sum().reset_index()\n",
    "matches_df"
   ]
  },
  {
   "cell_type": "markdown",
   "metadata": {},
   "source": [
    "# Initial prediction tests"
   ]
  },
  {
   "cell_type": "code",
   "execution_count": 63,
   "metadata": {},
   "outputs": [
    {
     "data": {
      "text/html": [
       "<div>\n",
       "<style scoped>\n",
       "    .dataframe tbody tr th:only-of-type {\n",
       "        vertical-align: middle;\n",
       "    }\n",
       "\n",
       "    .dataframe tbody tr th {\n",
       "        vertical-align: top;\n",
       "    }\n",
       "\n",
       "    .dataframe thead th {\n",
       "        text-align: right;\n",
       "    }\n",
       "</style>\n",
       "<table border=\"1\" class=\"dataframe\">\n",
       "  <thead>\n",
       "    <tr style=\"text-align: right;\">\n",
       "      <th></th>\n",
       "      <th>Match</th>\n",
       "      <th>Team</th>\n",
       "      <th>Goals</th>\n",
       "      <th>Shots</th>\n",
       "    </tr>\n",
       "  </thead>\n",
       "  <tbody>\n",
       "    <tr>\n",
       "      <th>0</th>\n",
       "      <td>CRO-DEN</td>\n",
       "      <td>CRO</td>\n",
       "      <td>25</td>\n",
       "      <td>48</td>\n",
       "    </tr>\n",
       "    <tr>\n",
       "      <th>1</th>\n",
       "      <td>CRO-DEN</td>\n",
       "      <td>DEN</td>\n",
       "      <td>19</td>\n",
       "      <td>44</td>\n",
       "    </tr>\n",
       "    <tr>\n",
       "      <th>2</th>\n",
       "      <td>CRO-GER</td>\n",
       "      <td>CRO</td>\n",
       "      <td>23</td>\n",
       "      <td>40</td>\n",
       "    </tr>\n",
       "    <tr>\n",
       "      <th>3</th>\n",
       "      <td>CRO-GER</td>\n",
       "      <td>GER</td>\n",
       "      <td>20</td>\n",
       "      <td>44</td>\n",
       "    </tr>\n",
       "    <tr>\n",
       "      <th>4</th>\n",
       "      <td>CRO-NED</td>\n",
       "      <td>CRO</td>\n",
       "      <td>27</td>\n",
       "      <td>44</td>\n",
       "    </tr>\n",
       "    <tr>\n",
       "      <th>...</th>\n",
       "      <td>...</td>\n",
       "      <td>...</td>\n",
       "      <td>...</td>\n",
       "      <td>...</td>\n",
       "    </tr>\n",
       "    <tr>\n",
       "      <th>89</th>\n",
       "      <td>SRB-CRO</td>\n",
       "      <td>SRB</td>\n",
       "      <td>24</td>\n",
       "      <td>38</td>\n",
       "    </tr>\n",
       "    <tr>\n",
       "      <th>90</th>\n",
       "      <td>SRB-HUN</td>\n",
       "      <td>HUN</td>\n",
       "      <td>38</td>\n",
       "      <td>60</td>\n",
       "    </tr>\n",
       "    <tr>\n",
       "      <th>91</th>\n",
       "      <td>SRB-HUN</td>\n",
       "      <td>SRB</td>\n",
       "      <td>26</td>\n",
       "      <td>54</td>\n",
       "    </tr>\n",
       "    <tr>\n",
       "      <th>92</th>\n",
       "      <td>SWE-CZE</td>\n",
       "      <td>CZE</td>\n",
       "      <td>23</td>\n",
       "      <td>46</td>\n",
       "    </tr>\n",
       "    <tr>\n",
       "      <th>93</th>\n",
       "      <td>SWE-CZE</td>\n",
       "      <td>SWE</td>\n",
       "      <td>27</td>\n",
       "      <td>48</td>\n",
       "    </tr>\n",
       "  </tbody>\n",
       "</table>\n",
       "<p>94 rows × 4 columns</p>\n",
       "</div>"
      ],
      "text/plain": [
       "      Match Team  Goals  Shots\n",
       "0   CRO-DEN  CRO     25     48\n",
       "1   CRO-DEN  DEN     19     44\n",
       "2   CRO-GER  CRO     23     40\n",
       "3   CRO-GER  GER     20     44\n",
       "4   CRO-NED  CRO     27     44\n",
       "..      ...  ...    ...    ...\n",
       "89  SRB-CRO  SRB     24     38\n",
       "90  SRB-HUN  HUN     38     60\n",
       "91  SRB-HUN  SRB     26     54\n",
       "92  SWE-CZE  CZE     23     46\n",
       "93  SWE-CZE  SWE     27     48\n",
       "\n",
       "[94 rows x 4 columns]"
      ]
     },
     "execution_count": 63,
     "metadata": {},
     "output_type": "execute_result"
    }
   ],
   "source": [
    "simplified_df = df[['Match', 'Team', 'Goals', 'Shots']]\n",
    "# Agrupamos por equipo y sumamos las estadísticas de cada uno\n",
    "teams_df = simplified_df.groupby(['Match', 'Team']).sum().reset_index()\n",
    "\n",
    "# Remove trailing white spaces in Team codes\n",
    "teams_df['Team'] = teams_df.apply(lambda row: row.Team.strip(), axis=1)\n",
    "teams_df"
   ]
  },
  {
   "cell_type": "code",
   "execution_count": 66,
   "metadata": {},
   "outputs": [
    {
     "data": {
      "text/html": [
       "<div>\n",
       "<style scoped>\n",
       "    .dataframe tbody tr th:only-of-type {\n",
       "        vertical-align: middle;\n",
       "    }\n",
       "\n",
       "    .dataframe tbody tr th {\n",
       "        vertical-align: top;\n",
       "    }\n",
       "\n",
       "    .dataframe thead th {\n",
       "        text-align: right;\n",
       "    }\n",
       "</style>\n",
       "<table border=\"1\" class=\"dataframe\">\n",
       "  <thead>\n",
       "    <tr style=\"text-align: right;\">\n",
       "      <th></th>\n",
       "      <th>Match</th>\n",
       "      <th>Team</th>\n",
       "      <th>Goals</th>\n",
       "      <th>Shots</th>\n",
       "      <th>match_result</th>\n",
       "    </tr>\n",
       "  </thead>\n",
       "  <tbody>\n",
       "    <tr>\n",
       "      <th>0</th>\n",
       "      <td>CRO-DEN</td>\n",
       "      <td>CRO</td>\n",
       "      <td>25</td>\n",
       "      <td>48</td>\n",
       "      <td>1</td>\n",
       "    </tr>\n",
       "    <tr>\n",
       "      <th>1</th>\n",
       "      <td>CRO-DEN</td>\n",
       "      <td>DEN</td>\n",
       "      <td>19</td>\n",
       "      <td>44</td>\n",
       "      <td>-1</td>\n",
       "    </tr>\n",
       "    <tr>\n",
       "      <th>2</th>\n",
       "      <td>CRO-GER</td>\n",
       "      <td>CRO</td>\n",
       "      <td>23</td>\n",
       "      <td>40</td>\n",
       "      <td>1</td>\n",
       "    </tr>\n",
       "    <tr>\n",
       "      <th>3</th>\n",
       "      <td>CRO-GER</td>\n",
       "      <td>GER</td>\n",
       "      <td>20</td>\n",
       "      <td>44</td>\n",
       "      <td>-1</td>\n",
       "    </tr>\n",
       "    <tr>\n",
       "      <th>4</th>\n",
       "      <td>CRO-NED</td>\n",
       "      <td>CRO</td>\n",
       "      <td>27</td>\n",
       "      <td>44</td>\n",
       "      <td>1</td>\n",
       "    </tr>\n",
       "    <tr>\n",
       "      <th>...</th>\n",
       "      <td>...</td>\n",
       "      <td>...</td>\n",
       "      <td>...</td>\n",
       "      <td>...</td>\n",
       "      <td>...</td>\n",
       "    </tr>\n",
       "    <tr>\n",
       "      <th>89</th>\n",
       "      <td>SRB-CRO</td>\n",
       "      <td>SRB</td>\n",
       "      <td>24</td>\n",
       "      <td>38</td>\n",
       "      <td>-1</td>\n",
       "    </tr>\n",
       "    <tr>\n",
       "      <th>90</th>\n",
       "      <td>SRB-HUN</td>\n",
       "      <td>HUN</td>\n",
       "      <td>38</td>\n",
       "      <td>60</td>\n",
       "      <td>1</td>\n",
       "    </tr>\n",
       "    <tr>\n",
       "      <th>91</th>\n",
       "      <td>SRB-HUN</td>\n",
       "      <td>SRB</td>\n",
       "      <td>26</td>\n",
       "      <td>54</td>\n",
       "      <td>-1</td>\n",
       "    </tr>\n",
       "    <tr>\n",
       "      <th>92</th>\n",
       "      <td>SWE-CZE</td>\n",
       "      <td>CZE</td>\n",
       "      <td>23</td>\n",
       "      <td>46</td>\n",
       "      <td>-1</td>\n",
       "    </tr>\n",
       "    <tr>\n",
       "      <th>93</th>\n",
       "      <td>SWE-CZE</td>\n",
       "      <td>SWE</td>\n",
       "      <td>27</td>\n",
       "      <td>48</td>\n",
       "      <td>1</td>\n",
       "    </tr>\n",
       "  </tbody>\n",
       "</table>\n",
       "<p>94 rows × 5 columns</p>\n",
       "</div>"
      ],
      "text/plain": [
       "      Match Team  Goals  Shots  match_result\n",
       "0   CRO-DEN  CRO     25     48             1\n",
       "1   CRO-DEN  DEN     19     44            -1\n",
       "2   CRO-GER  CRO     23     40             1\n",
       "3   CRO-GER  GER     20     44            -1\n",
       "4   CRO-NED  CRO     27     44             1\n",
       "..      ...  ...    ...    ...           ...\n",
       "89  SRB-CRO  SRB     24     38            -1\n",
       "90  SRB-HUN  HUN     38     60             1\n",
       "91  SRB-HUN  SRB     26     54            -1\n",
       "92  SWE-CZE  CZE     23     46            -1\n",
       "93  SWE-CZE  SWE     27     48             1\n",
       "\n",
       "[94 rows x 5 columns]"
      ]
     },
     "execution_count": 66,
     "metadata": {},
     "output_type": "execute_result"
    }
   ],
   "source": [
    "teams_df['match_result'] = teams_df.apply(lambda row: get_result(get_match(matches, row.Match), row.Team), axis=1)\n",
    "teams_df"
   ]
  },
  {
   "cell_type": "code",
   "execution_count": 69,
   "metadata": {},
   "outputs": [
    {
     "data": {
      "image/png": "[encoded data removed]",
      "text/plain": [
       "<Figure size 432x288 with 1 Axes>"
      ]
     },
     "metadata": {
      "needs_background": "light"
     },
     "output_type": "display_data"
    }
   ],
   "source": [
    "X = teams_df[['Shots', 'Goals', 'match_result']]\n",
    "\n",
    "plt.scatter(X['Shots'], X['Goals'], c=X['match_result'], s=30)\n",
    "plt.xlabel('Shots')\n",
    "plt.ylabel('Goals')\n",
    "plt.grid()\n",
    "\n",
    "#ax = plt.gca()\n",
    "#for i in range(0,len(teams_df)):\n",
    "#    ax.annotate(teams_df.iloc[i,:]['Team'], (X.iloc[i,0], X.iloc[i,1]))\n",
    "\n",
    "plt.show()"
   ]
  },
  {
   "cell_type": "code",
   "execution_count": null,
   "metadata": {},
   "outputs": [],
   "source": []
  }
 ],
 "metadata": {
  "kernelspec": {
   "display_name": "Python 3",
   "language": "python",
   "name": "python3"
  },
  "language_info": {
   "codemirror_mode": {
    "name": "ipython",
    "version": 3
   },
   "file_extension": ".py",
   "mimetype": "text/x-python",
   "name": "python",
   "nbconvert_exporter": "python",
   "pygments_lexer": "ipython3",
   "version": "3.6.6"
  }
 },
 "nbformat": 4,
 "nbformat_minor": 2
}

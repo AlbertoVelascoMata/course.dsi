{
 "cells": [
  {
   "cell_type": "code",
   "execution_count": 570,
   "metadata": {},
   "outputs": [],
   "source": [
    "import warnings\n",
    "warnings.simplefilter(action='ignore', category=FutureWarning)\n",
    "\n",
    "import pandas as pd\n",
    "pd.set_option('display.max_columns', 500)\n",
    "import numpy as np\n",
    "import matplotlib.pyplot as plt\n",
    "import yaml"
   ]
  },
  {
   "cell_type": "code",
   "execution_count": 572,
   "metadata": {},
   "outputs": [],
   "source": [
    "with open('../data/matches.yml', 'r', encoding='utf8') as f:\n",
    "    matches = yaml.safe_load(f)"
   ]
  },
  {
   "cell_type": "markdown",
   "metadata": {},
   "source": [
    "# Check imported data to detect typos and other errors"
   ]
  },
  {
   "cell_type": "code",
   "execution_count": 574,
   "metadata": {},
   "outputs": [
    {
     "output_type": "stream",
     "name": "stdout",
     "text": [
      "Countries: 16\n"
     ]
    },
    {
     "output_type": "execute_result",
     "data": {
      "text/plain": [
       "{'Alemania',\n",
       " 'Croacia',\n",
       " 'Dinamarca',\n",
       " 'Eslovenia',\n",
       " 'España',\n",
       " 'Francia',\n",
       " 'Hungría',\n",
       " 'Montenegro',\n",
       " 'Noruega',\n",
       " 'Países Bajos',\n",
       " 'Polonia',\n",
       " 'República Checa',\n",
       " 'Rumania',\n",
       " 'Rusia',\n",
       " 'Serbia',\n",
       " 'Suecia'}"
      ]
     },
     "metadata": {},
     "execution_count": 574
    }
   ],
   "source": [
    "countries = set()\n",
    "for phase in matches:\n",
    "    for group in matches[phase]:\n",
    "        for match in matches[phase][group]:\n",
    "            countries.update(list(match.keys()))\n",
    "\n",
    "print('Countries:', len(countries))\n",
    "countries"
   ]
  },
  {
   "cell_type": "code",
   "execution_count": 576,
   "metadata": {},
   "outputs": [],
   "source": [
    "df = pd.read_excel('../data/Handball Woman European Data Set.xlsx', index_col=0)"
   ]
  },
  {
   "cell_type": "code",
   "execution_count": 578,
   "metadata": {},
   "outputs": [
    {
     "output_type": "execute_result",
     "data": {
      "text/plain": [
       "array(['FRA', 'MNE', 'DEN', 'SLO', 'RUS', 'ESP', 'SWE', 'CZE', 'HUN',\n",
       "       'CRO', 'ROU', 'GER', 'NOR', 'POL', 'NED', 'SRB '], dtype=object)"
      ]
     },
     "metadata": {},
     "execution_count": 578
    }
   ],
   "source": [
    "df['Team'].unique()"
   ]
  },
  {
   "cell_type": "markdown",
   "metadata": {},
   "source": [
    "# Utility functions"
   ]
  },
  {
   "cell_type": "code",
   "execution_count": 580,
   "metadata": {},
   "outputs": [],
   "source": [
    "def country_abbr(country_name):\n",
    "    return {\n",
    "        'Alemania': 'GER',\n",
    "        'Croacia': 'CRO',\n",
    "        'Dinamarca': 'DEN',\n",
    "        'Eslovenia': 'SLO',\n",
    "        'España': 'ESP',\n",
    "        'Francia': 'FRA',\n",
    "        'Hungría': 'HUN',\n",
    "        'Montenegro': 'MNE',\n",
    "        'Noruega': 'NOR',\n",
    "        'Países Bajos': 'NED',\n",
    "        'Polonia': 'POL',\n",
    "        'República Checa': 'CZE',\n",
    "        'Rumania': 'ROU',\n",
    "        'Rusia': 'RUS',\n",
    "        'Serbia': 'SRB',\n",
    "        'Suecia': 'SWE'\n",
    "    }[country_name]\n",
    "\n",
    "def get_match(matches, match_name):\n",
    "    for phase in matches:\n",
    "        for group in matches[phase]:\n",
    "            for match in matches[phase][group]:\n",
    "                teamA, teamB = match.keys()\n",
    "                teamA, teamB = country_abbr(teamA), country_abbr(teamB)\n",
    "                if match_name == f\"{teamA}-{teamB}\" or match_name == f\"{teamB}-{teamA}\":\n",
    "                    return match\n",
    "\n",
    "def get_result(match, team):\n",
    "    if len(team) > 3:\n",
    "        team = country_abbr(team)\n",
    "    \n",
    "    teamA, teamB = match.keys()\n",
    "    \n",
    "    if match[teamA] == match[teamB]:\n",
    "        return 0\n",
    "    else:\n",
    "        winner = teamA if match[teamA] > match[teamB] else teamB\n",
    "        if team == country_abbr(winner):\n",
    "            return 1\n",
    "        else:\n",
    "            return -1"
   ]
  },
  {
   "cell_type": "code",
   "execution_count": 582,
   "metadata": {},
   "outputs": [
    {
     "output_type": "stream",
     "name": "stdout",
     "text": [
      "{'Rusia': 30, 'Suecia': 26}\n"
     ]
    },
    {
     "output_type": "execute_result",
     "data": {
      "text/plain": [
       "1"
      ]
     },
     "metadata": {},
     "execution_count": 582
    }
   ],
   "source": [
    "match = get_match(matches, 'RUS-SWE')\n",
    "print(match)\n",
    "get_result(match, 'Rusia')"
   ]
  },
  {
   "cell_type": "code",
   "execution_count": 584,
   "metadata": {},
   "outputs": [
    {
     "output_type": "execute_result",
     "data": {
      "text/plain": [
       "       Phase    Match Team  Goals\n",
       "0        3y4  CRO-DEN  CRO     25\n",
       "1        3y4  CRO-DEN  DEN     19\n",
       "2        5y6  RUS-NED  NED     27\n",
       "3        5y6  RUS-NED  RUS     33\n",
       "4      FINAL  FRA-NOR  FRA     20\n",
       "..       ...      ...  ...    ...\n",
       "89  PHASE1-D  ROU-NOR  ROU     20\n",
       "90      SEMI  FRA-CRO  CRO     19\n",
       "91      SEMI  FRA-CRO  FRA     30\n",
       "92      SEMI  NOR-DEN  DEN     24\n",
       "93      SEMI  NOR-DEN  NOR     27\n",
       "\n",
       "[94 rows x 4 columns]"
      ],
      "text/html": "<div>\n<style scoped>\n    .dataframe tbody tr th:only-of-type {\n        vertical-align: middle;\n    }\n\n    .dataframe tbody tr th {\n        vertical-align: top;\n    }\n\n    .dataframe thead th {\n        text-align: right;\n    }\n</style>\n<table border=\"1\" class=\"dataframe\">\n  <thead>\n    <tr style=\"text-align: right;\">\n      <th></th>\n      <th>Phase</th>\n      <th>Match</th>\n      <th>Team</th>\n      <th>Goals</th>\n    </tr>\n  </thead>\n  <tbody>\n    <tr>\n      <th>0</th>\n      <td>3y4</td>\n      <td>CRO-DEN</td>\n      <td>CRO</td>\n      <td>25</td>\n    </tr>\n    <tr>\n      <th>1</th>\n      <td>3y4</td>\n      <td>CRO-DEN</td>\n      <td>DEN</td>\n      <td>19</td>\n    </tr>\n    <tr>\n      <th>2</th>\n      <td>5y6</td>\n      <td>RUS-NED</td>\n      <td>NED</td>\n      <td>27</td>\n    </tr>\n    <tr>\n      <th>3</th>\n      <td>5y6</td>\n      <td>RUS-NED</td>\n      <td>RUS</td>\n      <td>33</td>\n    </tr>\n    <tr>\n      <th>4</th>\n      <td>FINAL</td>\n      <td>FRA-NOR</td>\n      <td>FRA</td>\n      <td>20</td>\n    </tr>\n    <tr>\n      <th>...</th>\n      <td>...</td>\n      <td>...</td>\n      <td>...</td>\n      <td>...</td>\n    </tr>\n    <tr>\n      <th>89</th>\n      <td>PHASE1-D</td>\n      <td>ROU-NOR</td>\n      <td>ROU</td>\n      <td>20</td>\n    </tr>\n    <tr>\n      <th>90</th>\n      <td>SEMI</td>\n      <td>FRA-CRO</td>\n      <td>CRO</td>\n      <td>19</td>\n    </tr>\n    <tr>\n      <th>91</th>\n      <td>SEMI</td>\n      <td>FRA-CRO</td>\n      <td>FRA</td>\n      <td>30</td>\n    </tr>\n    <tr>\n      <th>92</th>\n      <td>SEMI</td>\n      <td>NOR-DEN</td>\n      <td>DEN</td>\n      <td>24</td>\n    </tr>\n    <tr>\n      <th>93</th>\n      <td>SEMI</td>\n      <td>NOR-DEN</td>\n      <td>NOR</td>\n      <td>27</td>\n    </tr>\n  </tbody>\n</table>\n<p>94 rows × 4 columns</p>\n</div>"
     },
     "metadata": {},
     "execution_count": 584
    }
   ],
   "source": [
    "simplified_df = df[['Phase', 'Match', 'Team', 'Goals']]\n",
    "\n",
    "matches_df = simplified_df.groupby(['Phase', 'Match', 'Team']).sum().reset_index()\n",
    "matches_df"
   ]
  },
  {
   "source": [
    "# Initial prediction tests"
   ],
   "cell_type": "code",
   "metadata": {},
   "execution_count": 585,
   "outputs": []
  },
  {
   "cell_type": "code",
   "execution_count": 586,
   "metadata": {},
   "outputs": [
    {
     "output_type": "execute_result",
     "data": {
      "text/plain": [
       "      Match Team  Goals  Shots\n",
       "0   CRO-DEN  CRO     25     48\n",
       "1   CRO-DEN  DEN     19     44\n",
       "2   CRO-GER  CRO     23     40\n",
       "3   CRO-GER  GER     20     44\n",
       "4   CRO-NED  CRO     27     44\n",
       "..      ...  ...    ...    ...\n",
       "89  SRB-CRO  SRB     24     38\n",
       "90  SRB-HUN  HUN     38     60\n",
       "91  SRB-HUN  SRB     26     54\n",
       "92  SWE-CZE  CZE     23     46\n",
       "93  SWE-CZE  SWE     27     48\n",
       "\n",
       "[94 rows x 4 columns]"
      ],
      "text/html": "<div>\n<style scoped>\n    .dataframe tbody tr th:only-of-type {\n        vertical-align: middle;\n    }\n\n    .dataframe tbody tr th {\n        vertical-align: top;\n    }\n\n    .dataframe thead th {\n        text-align: right;\n    }\n</style>\n<table border=\"1\" class=\"dataframe\">\n  <thead>\n    <tr style=\"text-align: right;\">\n      <th></th>\n      <th>Match</th>\n      <th>Team</th>\n      <th>Goals</th>\n      <th>Shots</th>\n    </tr>\n  </thead>\n  <tbody>\n    <tr>\n      <th>0</th>\n      <td>CRO-DEN</td>\n      <td>CRO</td>\n      <td>25</td>\n      <td>48</td>\n    </tr>\n    <tr>\n      <th>1</th>\n      <td>CRO-DEN</td>\n      <td>DEN</td>\n      <td>19</td>\n      <td>44</td>\n    </tr>\n    <tr>\n      <th>2</th>\n      <td>CRO-GER</td>\n      <td>CRO</td>\n      <td>23</td>\n      <td>40</td>\n    </tr>\n    <tr>\n      <th>3</th>\n      <td>CRO-GER</td>\n      <td>GER</td>\n      <td>20</td>\n      <td>44</td>\n    </tr>\n    <tr>\n      <th>4</th>\n      <td>CRO-NED</td>\n      <td>CRO</td>\n      <td>27</td>\n      <td>44</td>\n    </tr>\n    <tr>\n      <th>...</th>\n      <td>...</td>\n      <td>...</td>\n      <td>...</td>\n      <td>...</td>\n    </tr>\n    <tr>\n      <th>89</th>\n      <td>SRB-CRO</td>\n      <td>SRB</td>\n      <td>24</td>\n      <td>38</td>\n    </tr>\n    <tr>\n      <th>90</th>\n      <td>SRB-HUN</td>\n      <td>HUN</td>\n      <td>38</td>\n      <td>60</td>\n    </tr>\n    <tr>\n      <th>91</th>\n      <td>SRB-HUN</td>\n      <td>SRB</td>\n      <td>26</td>\n      <td>54</td>\n    </tr>\n    <tr>\n      <th>92</th>\n      <td>SWE-CZE</td>\n      <td>CZE</td>\n      <td>23</td>\n      <td>46</td>\n    </tr>\n    <tr>\n      <th>93</th>\n      <td>SWE-CZE</td>\n      <td>SWE</td>\n      <td>27</td>\n      <td>48</td>\n    </tr>\n  </tbody>\n</table>\n<p>94 rows × 4 columns</p>\n</div>"
     },
     "metadata": {},
     "execution_count": 586
    }
   ],
   "source": [
    "simplified_df = df[['Match', 'Team', 'Goals','Shots']]\n",
    "# Agrupamos por equipo y sumamos las estadísticas de cada uno\n",
    "teams_df = simplified_df.groupby(['Match', 'Team']).sum().reset_index()\n",
    "\n",
    "# Remove trailing white spaces in Team codes\n",
    "teams_df['Team'] = teams_df.apply(lambda row: row.Team.strip(), axis=1)\n",
    "teams_df"
   ]
  },
  {
   "cell_type": "code",
   "execution_count": 587,
   "metadata": {},
   "outputs": [
    {
     "output_type": "execute_result",
     "data": {
      "text/plain": [
       "      Match Team  Goals  Shots  match_result\n",
       "0   CRO-DEN  CRO     25     48             1\n",
       "1   CRO-DEN  DEN     19     44            -1\n",
       "2   CRO-GER  CRO     23     40             1\n",
       "3   CRO-GER  GER     20     44            -1\n",
       "4   CRO-NED  CRO     27     44             1\n",
       "..      ...  ...    ...    ...           ...\n",
       "89  SRB-CRO  SRB     24     38            -1\n",
       "90  SRB-HUN  HUN     38     60             1\n",
       "91  SRB-HUN  SRB     26     54            -1\n",
       "92  SWE-CZE  CZE     23     46            -1\n",
       "93  SWE-CZE  SWE     27     48             1\n",
       "\n",
       "[94 rows x 5 columns]"
      ],
      "text/html": "<div>\n<style scoped>\n    .dataframe tbody tr th:only-of-type {\n        vertical-align: middle;\n    }\n\n    .dataframe tbody tr th {\n        vertical-align: top;\n    }\n\n    .dataframe thead th {\n        text-align: right;\n    }\n</style>\n<table border=\"1\" class=\"dataframe\">\n  <thead>\n    <tr style=\"text-align: right;\">\n      <th></th>\n      <th>Match</th>\n      <th>Team</th>\n      <th>Goals</th>\n      <th>Shots</th>\n      <th>match_result</th>\n    </tr>\n  </thead>\n  <tbody>\n    <tr>\n      <th>0</th>\n      <td>CRO-DEN</td>\n      <td>CRO</td>\n      <td>25</td>\n      <td>48</td>\n      <td>1</td>\n    </tr>\n    <tr>\n      <th>1</th>\n      <td>CRO-DEN</td>\n      <td>DEN</td>\n      <td>19</td>\n      <td>44</td>\n      <td>-1</td>\n    </tr>\n    <tr>\n      <th>2</th>\n      <td>CRO-GER</td>\n      <td>CRO</td>\n      <td>23</td>\n      <td>40</td>\n      <td>1</td>\n    </tr>\n    <tr>\n      <th>3</th>\n      <td>CRO-GER</td>\n      <td>GER</td>\n      <td>20</td>\n      <td>44</td>\n      <td>-1</td>\n    </tr>\n    <tr>\n      <th>4</th>\n      <td>CRO-NED</td>\n      <td>CRO</td>\n      <td>27</td>\n      <td>44</td>\n      <td>1</td>\n    </tr>\n    <tr>\n      <th>...</th>\n      <td>...</td>\n      <td>...</td>\n      <td>...</td>\n      <td>...</td>\n      <td>...</td>\n    </tr>\n    <tr>\n      <th>89</th>\n      <td>SRB-CRO</td>\n      <td>SRB</td>\n      <td>24</td>\n      <td>38</td>\n      <td>-1</td>\n    </tr>\n    <tr>\n      <th>90</th>\n      <td>SRB-HUN</td>\n      <td>HUN</td>\n      <td>38</td>\n      <td>60</td>\n      <td>1</td>\n    </tr>\n    <tr>\n      <th>91</th>\n      <td>SRB-HUN</td>\n      <td>SRB</td>\n      <td>26</td>\n      <td>54</td>\n      <td>-1</td>\n    </tr>\n    <tr>\n      <th>92</th>\n      <td>SWE-CZE</td>\n      <td>CZE</td>\n      <td>23</td>\n      <td>46</td>\n      <td>-1</td>\n    </tr>\n    <tr>\n      <th>93</th>\n      <td>SWE-CZE</td>\n      <td>SWE</td>\n      <td>27</td>\n      <td>48</td>\n      <td>1</td>\n    </tr>\n  </tbody>\n</table>\n<p>94 rows × 5 columns</p>\n</div>"
     },
     "metadata": {},
     "execution_count": 587
    }
   ],
   "source": [
    "teams_df['match_result'] = teams_df.apply(lambda row: get_result(get_match(matches, row.Match), row.Team), axis=1)\n",
    "teams_df"
   ]
  },
  {
   "cell_type": "code",
   "execution_count": 588,
   "metadata": {},
   "outputs": [
    {
     "output_type": "display_data",
     "data": {
      "text/plain": "<Figure size 432x288 with 1 Axes>",
      "image/svg+xml": "<?xml version=\"1.0\" encoding=\"utf-8\" standalone=\"no\"?>\r\n<!DOCTYPE svg PUBLIC \"-//W3C//DTD SVG 1.1//EN\"\r\n  \"http://www.w3.org/Graphics/SVG/1.1/DTD/svg11.dtd\">\r\n<!-- Created with matplotlib (https://matplotlib.org/) -->\r\n<svg height=\"262.19625pt\" version=\"1.1\" viewBox=\"0 0 382.603125 262.19625\" width=\"382.603125pt\" xmlns=\"http://www.w3.org/2000/svg\" xmlns:xlink=\"http://www.w3.org/1999/xlink\">\r\n <metadata>\r\n  <rdf:RDF xmlns:cc=\"http://creativecommons.org/ns#\" xmlns:dc=\"http://purl.org/dc/elements/1.1/\" xmlns:rdf=\"http://www.w3.org/1999/02/22-rdf-syntax-ns#\">\r\n   <cc:Work>\r\n    <dc:type rdf:resource=\"http://purl.org/dc/dcmitype/StillImage\"/>\r\n    <dc:date>2021-05-23T23:55:45.794369</dc:date>\r\n    <dc:format>image/svg+xml</dc:format>\r\n    <dc:creator>\r\n     <cc:Agent>\r\n      <dc:title>Matplotlib v3.3.4, https://matplotlib.org/</dc:title>\r\n     </cc:Agent>\r\n    </dc:creator>\r\n   </cc:Work>\r\n  </rdf:RDF>\r\n </metadata>\r\n <defs>\r\n  <style type=\"text/css\">*{stroke-linecap:butt;stroke-linejoin:round;}</style>\r\n </defs>\r\n <g id=\"figure_1\">\r\n  <g id=\"patch_1\">\r\n   <path d=\"M 0 262.19625 \r\nL 382.603125 262.19625 \r\nL 382.603125 0 \r\nL 0 0 \r\nz\r\n\" style=\"fill:none;\"/>\r\n  </g>\r\n  <g id=\"axes_1\">\r\n   <g id=\"patch_2\">\r\n    <path d=\"M 40.603125 224.64 \r\nL 375.403125 224.64 \r\nL 375.403125 7.2 \r\nL 40.603125 7.2 \r\nz\r\n\" style=\"fill:#ffffff;\"/>\r\n   </g>\r\n   <g id=\"PathCollection_1\">\r\n    <defs>\r\n     <path d=\"M 0 2.738613 \r\nC 0.726289 2.738613 1.422928 2.450055 1.936492 1.936492 \r\nC 2.450055 1.422928 2.738613 0.726289 2.738613 -0 \r\nC 2.738613 -0.726289 2.450055 -1.422928 1.936492 -1.936492 \r\nC 1.422928 -2.450055 0.726289 -2.738613 0 -2.738613 \r\nC -0.726289 -2.738613 -1.422928 -2.450055 -1.936492 -1.936492 \r\nC -2.450055 -1.422928 -2.738613 -0.726289 -2.738613 0 \r\nC -2.738613 0.726289 -2.450055 1.422928 -1.936492 1.936492 \r\nC -1.422928 2.450055 -0.726289 2.738613 0 2.738613 \r\nz\r\n\" id=\"C0_0_6ac8d331f7\"/>\r\n    </defs>\r\n    <g clip-path=\"url(#pd7872669ae)\">\r\n     <use style=\"fill:#fde725;stroke:#fde725;\" x=\"208.003125\" xlink:href=\"#C0_0_6ac8d331f7\" y=\"151.501091\"/>\r\n    </g>\r\n    <g clip-path=\"url(#pd7872669ae)\">\r\n     <use style=\"fill:#440154;stroke:#440154;\" x=\"157.275852\" xlink:href=\"#C0_0_6ac8d331f7\" y=\"198.942545\"/>\r\n    </g>\r\n    <g clip-path=\"url(#pd7872669ae)\">\r\n     <use style=\"fill:#fde725;stroke:#fde725;\" x=\"106.54858\" xlink:href=\"#C0_0_6ac8d331f7\" y=\"167.314909\"/>\r\n    </g>\r\n    <g clip-path=\"url(#pd7872669ae)\">\r\n     <use style=\"fill:#440154;stroke:#440154;\" x=\"157.275852\" xlink:href=\"#C0_0_6ac8d331f7\" y=\"191.035636\"/>\r\n    </g>\r\n    <g clip-path=\"url(#pd7872669ae)\">\r\n     <use style=\"fill:#fde725;stroke:#fde725;\" x=\"157.275852\" xlink:href=\"#C0_0_6ac8d331f7\" y=\"135.687273\"/>\r\n    </g>\r\n    <g clip-path=\"url(#pd7872669ae)\">\r\n     <use style=\"fill:#440154;stroke:#440154;\" x=\"208.003125\" xlink:href=\"#C0_0_6ac8d331f7\" y=\"151.501091\"/>\r\n    </g>\r\n    <g clip-path=\"url(#pd7872669ae)\">\r\n     <use style=\"fill:#440154;stroke:#440154;\" x=\"119.230398\" xlink:href=\"#C0_0_6ac8d331f7\" y=\"151.501091\"/>\r\n    </g>\r\n    <g clip-path=\"url(#pd7872669ae)\">\r\n     <use style=\"fill:#fde725;stroke:#fde725;\" x=\"233.366761\" xlink:href=\"#C0_0_6ac8d331f7\" y=\"64.525091\"/>\r\n    </g>\r\n    <g clip-path=\"url(#pd7872669ae)\">\r\n     <use style=\"fill:#fde725;stroke:#fde725;\" x=\"144.594034\" xlink:href=\"#C0_0_6ac8d331f7\" y=\"151.501091\"/>\r\n    </g>\r\n    <g clip-path=\"url(#pd7872669ae)\">\r\n     <use style=\"fill:#440154;stroke:#440154;\" x=\"68.503125\" xlink:href=\"#C0_0_6ac8d331f7\" y=\"191.035636\"/>\r\n    </g>\r\n    <g clip-path=\"url(#pd7872669ae)\">\r\n     <use style=\"fill:#440154;stroke:#440154;\" x=\"131.912216\" xlink:href=\"#C0_0_6ac8d331f7\" y=\"175.221818\"/>\r\n    </g>\r\n    <g clip-path=\"url(#pd7872669ae)\">\r\n     <use style=\"fill:#fde725;stroke:#fde725;\" x=\"195.321307\" xlink:href=\"#C0_0_6ac8d331f7\" y=\"159.408\"/>\r\n    </g>\r\n    <g clip-path=\"url(#pd7872669ae)\">\r\n     <use style=\"fill:#fde725;stroke:#fde725;\" x=\"182.639489\" xlink:href=\"#C0_0_6ac8d331f7\" y=\"80.338909\"/>\r\n    </g>\r\n    <g clip-path=\"url(#pd7872669ae)\">\r\n     <use style=\"fill:#440154;stroke:#440154;\" x=\"195.321307\" xlink:href=\"#C0_0_6ac8d331f7\" y=\"159.408\"/>\r\n    </g>\r\n    <g clip-path=\"url(#pd7872669ae)\">\r\n     <use style=\"fill:#fde725;stroke:#fde725;\" x=\"208.003125\" xlink:href=\"#C0_0_6ac8d331f7\" y=\"111.966545\"/>\r\n    </g>\r\n    <g clip-path=\"url(#pd7872669ae)\">\r\n     <use style=\"fill:#440154;stroke:#440154;\" x=\"144.594034\" xlink:href=\"#C0_0_6ac8d331f7\" y=\"167.314909\"/>\r\n    </g>\r\n    <g clip-path=\"url(#pd7872669ae)\">\r\n     <use style=\"fill:#fde725;stroke:#fde725;\" x=\"131.912216\" xlink:href=\"#C0_0_6ac8d331f7\" y=\"111.966545\"/>\r\n    </g>\r\n    <g clip-path=\"url(#pd7872669ae)\">\r\n     <use style=\"fill:#440154;stroke:#440154;\" x=\"119.230398\" xlink:href=\"#C0_0_6ac8d331f7\" y=\"167.314909\"/>\r\n    </g>\r\n    <g clip-path=\"url(#pd7872669ae)\">\r\n     <use style=\"fill:#fde725;stroke:#fde725;\" x=\"131.912216\" xlink:href=\"#C0_0_6ac8d331f7\" y=\"159.408\"/>\r\n    </g>\r\n    <g clip-path=\"url(#pd7872669ae)\">\r\n     <use style=\"fill:#440154;stroke:#440154;\" x=\"182.639489\" xlink:href=\"#C0_0_6ac8d331f7\" y=\"175.221818\"/>\r\n    </g>\r\n    <g clip-path=\"url(#pd7872669ae)\">\r\n     <use style=\"fill:#440154;stroke:#440154;\" x=\"182.639489\" xlink:href=\"#C0_0_6ac8d331f7\" y=\"159.408\"/>\r\n    </g>\r\n    <g clip-path=\"url(#pd7872669ae)\">\r\n     <use style=\"fill:#fde725;stroke:#fde725;\" x=\"195.321307\" xlink:href=\"#C0_0_6ac8d331f7\" y=\"135.687273\"/>\r\n    </g>\r\n    <g clip-path=\"url(#pd7872669ae)\">\r\n     <use style=\"fill:#21918c;stroke:#21918c;\" x=\"119.230398\" xlink:href=\"#C0_0_6ac8d331f7\" y=\"167.314909\"/>\r\n    </g>\r\n    <g clip-path=\"url(#pd7872669ae)\">\r\n     <use style=\"fill:#21918c;stroke:#21918c;\" x=\"246.04858\" xlink:href=\"#C0_0_6ac8d331f7\" y=\"167.314909\"/>\r\n    </g>\r\n    <g clip-path=\"url(#pd7872669ae)\">\r\n     <use style=\"fill:#440154;stroke:#440154;\" x=\"131.912216\" xlink:href=\"#C0_0_6ac8d331f7\" y=\"198.942545\"/>\r\n    </g>\r\n    <g clip-path=\"url(#pd7872669ae)\">\r\n     <use style=\"fill:#fde725;stroke:#fde725;\" x=\"195.321307\" xlink:href=\"#C0_0_6ac8d331f7\" y=\"111.966545\"/>\r\n    </g>\r\n    <g clip-path=\"url(#pd7872669ae)\">\r\n     <use style=\"fill:#440154;stroke:#440154;\" x=\"144.594034\" xlink:href=\"#C0_0_6ac8d331f7\" y=\"191.035636\"/>\r\n    </g>\r\n    <g clip-path=\"url(#pd7872669ae)\">\r\n     <use style=\"fill:#fde725;stroke:#fde725;\" x=\"131.912216\" xlink:href=\"#C0_0_6ac8d331f7\" y=\"167.314909\"/>\r\n    </g>\r\n    <g clip-path=\"url(#pd7872669ae)\">\r\n     <use style=\"fill:#440154;stroke:#440154;\" x=\"106.54858\" xlink:href=\"#C0_0_6ac8d331f7\" y=\"151.501091\"/>\r\n    </g>\r\n    <g clip-path=\"url(#pd7872669ae)\">\r\n     <use style=\"fill:#fde725;stroke:#fde725;\" x=\"93.866761\" xlink:href=\"#C0_0_6ac8d331f7\" y=\"143.594182\"/>\r\n    </g>\r\n    <g clip-path=\"url(#pd7872669ae)\">\r\n     <use style=\"fill:#fde725;stroke:#fde725;\" x=\"144.594034\" xlink:href=\"#C0_0_6ac8d331f7\" y=\"159.408\"/>\r\n    </g>\r\n    <g clip-path=\"url(#pd7872669ae)\">\r\n     <use style=\"fill:#440154;stroke:#440154;\" x=\"131.912216\" xlink:href=\"#C0_0_6ac8d331f7\" y=\"167.314909\"/>\r\n    </g>\r\n    <g clip-path=\"url(#pd7872669ae)\">\r\n     <use style=\"fill:#440154;stroke:#440154;\" x=\"157.275852\" xlink:href=\"#C0_0_6ac8d331f7\" y=\"191.035636\"/>\r\n    </g>\r\n    <g clip-path=\"url(#pd7872669ae)\">\r\n     <use style=\"fill:#fde725;stroke:#fde725;\" x=\"157.275852\" xlink:href=\"#C0_0_6ac8d331f7\" y=\"175.221818\"/>\r\n    </g>\r\n    <g clip-path=\"url(#pd7872669ae)\">\r\n     <use style=\"fill:#21918c;stroke:#21918c;\" x=\"55.821307\" xlink:href=\"#C0_0_6ac8d331f7\" y=\"127.780364\"/>\r\n    </g>\r\n    <g clip-path=\"url(#pd7872669ae)\">\r\n     <use style=\"fill:#21918c;stroke:#21918c;\" x=\"144.594034\" xlink:href=\"#C0_0_6ac8d331f7\" y=\"127.780364\"/>\r\n    </g>\r\n    <g clip-path=\"url(#pd7872669ae)\">\r\n     <use style=\"fill:#fde725;stroke:#fde725;\" x=\"220.684943\" xlink:href=\"#C0_0_6ac8d331f7\" y=\"104.059636\"/>\r\n    </g>\r\n    <g clip-path=\"url(#pd7872669ae)\">\r\n     <use style=\"fill:#440154;stroke:#440154;\" x=\"131.912216\" xlink:href=\"#C0_0_6ac8d331f7\" y=\"151.501091\"/>\r\n    </g>\r\n    <g clip-path=\"url(#pd7872669ae)\">\r\n     <use style=\"fill:#440154;stroke:#440154;\" x=\"144.594034\" xlink:href=\"#C0_0_6ac8d331f7\" y=\"167.314909\"/>\r\n    </g>\r\n    <g clip-path=\"url(#pd7872669ae)\">\r\n     <use style=\"fill:#fde725;stroke:#fde725;\" x=\"309.45767\" xlink:href=\"#C0_0_6ac8d331f7\" y=\"17.083636\"/>\r\n    </g>\r\n    <g clip-path=\"url(#pd7872669ae)\">\r\n     <use style=\"fill:#21918c;stroke:#21918c;\" x=\"169.95767\" xlink:href=\"#C0_0_6ac8d331f7\" y=\"183.128727\"/>\r\n    </g>\r\n    <g clip-path=\"url(#pd7872669ae)\">\r\n     <use style=\"fill:#21918c;stroke:#21918c;\" x=\"68.503125\" xlink:href=\"#C0_0_6ac8d331f7\" y=\"183.128727\"/>\r\n    </g>\r\n    <g clip-path=\"url(#pd7872669ae)\">\r\n     <use style=\"fill:#fde725;stroke:#fde725;\" x=\"106.54858\" xlink:href=\"#C0_0_6ac8d331f7\" y=\"159.408\"/>\r\n    </g>\r\n    <g clip-path=\"url(#pd7872669ae)\">\r\n     <use style=\"fill:#440154;stroke:#440154;\" x=\"81.184943\" xlink:href=\"#C0_0_6ac8d331f7\" y=\"175.221818\"/>\r\n    </g>\r\n    <g clip-path=\"url(#pd7872669ae)\">\r\n     <use style=\"fill:#fde725;stroke:#fde725;\" x=\"296.775852\" xlink:href=\"#C0_0_6ac8d331f7\" y=\"96.152727\"/>\r\n    </g>\r\n    <g clip-path=\"url(#pd7872669ae)\">\r\n     <use style=\"fill:#440154;stroke:#440154;\" x=\"233.366761\" xlink:href=\"#C0_0_6ac8d331f7\" y=\"151.501091\"/>\r\n    </g>\r\n    <g clip-path=\"url(#pd7872669ae)\">\r\n     <use style=\"fill:#440154;stroke:#440154;\" x=\"220.684943\" xlink:href=\"#C0_0_6ac8d331f7\" y=\"183.128727\"/>\r\n    </g>\r\n    <g clip-path=\"url(#pd7872669ae)\">\r\n     <use style=\"fill:#fde725;stroke:#fde725;\" x=\"246.04858\" xlink:href=\"#C0_0_6ac8d331f7\" y=\"96.152727\"/>\r\n    </g>\r\n    <g clip-path=\"url(#pd7872669ae)\">\r\n     <use style=\"fill:#fde725;stroke:#fde725;\" x=\"195.321307\" xlink:href=\"#C0_0_6ac8d331f7\" y=\"143.594182\"/>\r\n    </g>\r\n    <g clip-path=\"url(#pd7872669ae)\">\r\n     <use style=\"fill:#440154;stroke:#440154;\" x=\"169.95767\" xlink:href=\"#C0_0_6ac8d331f7\" y=\"159.408\"/>\r\n    </g>\r\n    <g clip-path=\"url(#pd7872669ae)\">\r\n     <use style=\"fill:#fde725;stroke:#fde725;\" x=\"93.866761\" xlink:href=\"#C0_0_6ac8d331f7\" y=\"127.780364\"/>\r\n    </g>\r\n    <g clip-path=\"url(#pd7872669ae)\">\r\n     <use style=\"fill:#440154;stroke:#440154;\" x=\"131.912216\" xlink:href=\"#C0_0_6ac8d331f7\" y=\"198.942545\"/>\r\n    </g>\r\n    <g clip-path=\"url(#pd7872669ae)\">\r\n     <use style=\"fill:#21918c;stroke:#21918c;\" x=\"182.639489\" xlink:href=\"#C0_0_6ac8d331f7\" y=\"143.594182\"/>\r\n    </g>\r\n    <g clip-path=\"url(#pd7872669ae)\">\r\n     <use style=\"fill:#21918c;stroke:#21918c;\" x=\"195.321307\" xlink:href=\"#C0_0_6ac8d331f7\" y=\"143.594182\"/>\r\n    </g>\r\n    <g clip-path=\"url(#pd7872669ae)\">\r\n     <use style=\"fill:#440154;stroke:#440154;\" x=\"81.184943\" xlink:href=\"#C0_0_6ac8d331f7\" y=\"167.314909\"/>\r\n    </g>\r\n    <g clip-path=\"url(#pd7872669ae)\">\r\n     <use style=\"fill:#fde725;stroke:#fde725;\" x=\"144.594034\" xlink:href=\"#C0_0_6ac8d331f7\" y=\"159.408\"/>\r\n    </g>\r\n    <g clip-path=\"url(#pd7872669ae)\">\r\n     <use style=\"fill:#fde725;stroke:#fde725;\" x=\"157.275852\" xlink:href=\"#C0_0_6ac8d331f7\" y=\"143.594182\"/>\r\n    </g>\r\n    <g clip-path=\"url(#pd7872669ae)\">\r\n     <use style=\"fill:#440154;stroke:#440154;\" x=\"208.003125\" xlink:href=\"#C0_0_6ac8d331f7\" y=\"151.501091\"/>\r\n    </g>\r\n    <g clip-path=\"url(#pd7872669ae)\">\r\n     <use style=\"fill:#fde725;stroke:#fde725;\" x=\"220.684943\" xlink:href=\"#C0_0_6ac8d331f7\" y=\"104.059636\"/>\r\n    </g>\r\n    <g clip-path=\"url(#pd7872669ae)\">\r\n     <use style=\"fill:#440154;stroke:#440154;\" x=\"119.230398\" xlink:href=\"#C0_0_6ac8d331f7\" y=\"151.501091\"/>\r\n    </g>\r\n    <g clip-path=\"url(#pd7872669ae)\">\r\n     <use style=\"fill:#440154;stroke:#440154;\" x=\"233.366761\" xlink:href=\"#C0_0_6ac8d331f7\" y=\"135.687273\"/>\r\n    </g>\r\n    <g clip-path=\"url(#pd7872669ae)\">\r\n     <use style=\"fill:#fde725;stroke:#fde725;\" x=\"258.730398\" xlink:href=\"#C0_0_6ac8d331f7\" y=\"127.780364\"/>\r\n    </g>\r\n    <g clip-path=\"url(#pd7872669ae)\">\r\n     <use style=\"fill:#440154;stroke:#440154;\" x=\"195.321307\" xlink:href=\"#C0_0_6ac8d331f7\" y=\"159.408\"/>\r\n    </g>\r\n    <g clip-path=\"url(#pd7872669ae)\">\r\n     <use style=\"fill:#fde725;stroke:#fde725;\" x=\"208.003125\" xlink:href=\"#C0_0_6ac8d331f7\" y=\"127.780364\"/>\r\n    </g>\r\n    <g clip-path=\"url(#pd7872669ae)\">\r\n     <use style=\"fill:#440154;stroke:#440154;\" x=\"169.95767\" xlink:href=\"#C0_0_6ac8d331f7\" y=\"151.501091\"/>\r\n    </g>\r\n    <g clip-path=\"url(#pd7872669ae)\">\r\n     <use style=\"fill:#fde725;stroke:#fde725;\" x=\"233.366761\" xlink:href=\"#C0_0_6ac8d331f7\" y=\"96.152727\"/>\r\n    </g>\r\n    <g clip-path=\"url(#pd7872669ae)\">\r\n     <use style=\"fill:#fde725;stroke:#fde725;\" x=\"296.775852\" xlink:href=\"#C0_0_6ac8d331f7\" y=\"72.432\"/>\r\n    </g>\r\n    <g clip-path=\"url(#pd7872669ae)\">\r\n     <use style=\"fill:#440154;stroke:#440154;\" x=\"144.594034\" xlink:href=\"#C0_0_6ac8d331f7\" y=\"159.408\"/>\r\n    </g>\r\n    <g clip-path=\"url(#pd7872669ae)\">\r\n     <use style=\"fill:#440154;stroke:#440154;\" x=\"258.730398\" xlink:href=\"#C0_0_6ac8d331f7\" y=\"151.501091\"/>\r\n    </g>\r\n    <g clip-path=\"url(#pd7872669ae)\">\r\n     <use style=\"fill:#fde725;stroke:#fde725;\" x=\"208.003125\" xlink:href=\"#C0_0_6ac8d331f7\" y=\"119.873455\"/>\r\n    </g>\r\n    <g clip-path=\"url(#pd7872669ae)\">\r\n     <use style=\"fill:#440154;stroke:#440154;\" x=\"220.684943\" xlink:href=\"#C0_0_6ac8d331f7\" y=\"159.408\"/>\r\n    </g>\r\n    <g clip-path=\"url(#pd7872669ae)\">\r\n     <use style=\"fill:#fde725;stroke:#fde725;\" x=\"182.639489\" xlink:href=\"#C0_0_6ac8d331f7\" y=\"135.687273\"/>\r\n    </g>\r\n    <g clip-path=\"url(#pd7872669ae)\">\r\n     <use style=\"fill:#fde725;stroke:#fde725;\" x=\"246.04858\" xlink:href=\"#C0_0_6ac8d331f7\" y=\"72.432\"/>\r\n    </g>\r\n    <g clip-path=\"url(#pd7872669ae)\">\r\n     <use style=\"fill:#440154;stroke:#440154;\" x=\"182.639489\" xlink:href=\"#C0_0_6ac8d331f7\" y=\"175.221818\"/>\r\n    </g>\r\n    <g clip-path=\"url(#pd7872669ae)\">\r\n     <use style=\"fill:#440154;stroke:#440154;\" x=\"106.54858\" xlink:href=\"#C0_0_6ac8d331f7\" y=\"159.408\"/>\r\n    </g>\r\n    <g clip-path=\"url(#pd7872669ae)\">\r\n     <use style=\"fill:#fde725;stroke:#fde725;\" x=\"208.003125\" xlink:href=\"#C0_0_6ac8d331f7\" y=\"127.780364\"/>\r\n    </g>\r\n    <g clip-path=\"url(#pd7872669ae)\">\r\n     <use style=\"fill:#fde725;stroke:#fde725;\" x=\"195.321307\" xlink:href=\"#C0_0_6ac8d331f7\" y=\"175.221818\"/>\r\n    </g>\r\n    <g clip-path=\"url(#pd7872669ae)\">\r\n     <use style=\"fill:#440154;stroke:#440154;\" x=\"144.594034\" xlink:href=\"#C0_0_6ac8d331f7\" y=\"198.942545\"/>\r\n    </g>\r\n    <g clip-path=\"url(#pd7872669ae)\">\r\n     <use style=\"fill:#fde725;stroke:#fde725;\" x=\"258.730398\" xlink:href=\"#C0_0_6ac8d331f7\" y=\"127.780364\"/>\r\n    </g>\r\n    <g clip-path=\"url(#pd7872669ae)\">\r\n     <use style=\"fill:#440154;stroke:#440154;\" x=\"220.684943\" xlink:href=\"#C0_0_6ac8d331f7\" y=\"191.035636\"/>\r\n    </g>\r\n    <g clip-path=\"url(#pd7872669ae)\">\r\n     <use style=\"fill:#440154;stroke:#440154;\" x=\"106.54858\" xlink:href=\"#C0_0_6ac8d331f7\" y=\"175.221818\"/>\r\n    </g>\r\n    <g clip-path=\"url(#pd7872669ae)\">\r\n     <use style=\"fill:#fde725;stroke:#fde725;\" x=\"169.95767\" xlink:href=\"#C0_0_6ac8d331f7\" y=\"104.059636\"/>\r\n    </g>\r\n    <g clip-path=\"url(#pd7872669ae)\">\r\n     <use style=\"fill:#440154;stroke:#440154;\" x=\"309.45767\" xlink:href=\"#C0_0_6ac8d331f7\" y=\"135.687273\"/>\r\n    </g>\r\n    <g clip-path=\"url(#pd7872669ae)\">\r\n     <use style=\"fill:#fde725;stroke:#fde725;\" x=\"220.684943\" xlink:href=\"#C0_0_6ac8d331f7\" y=\"88.245818\"/>\r\n    </g>\r\n    <g clip-path=\"url(#pd7872669ae)\">\r\n     <use style=\"fill:#fde725;stroke:#fde725;\" x=\"169.95767\" xlink:href=\"#C0_0_6ac8d331f7\" y=\"111.966545\"/>\r\n    </g>\r\n    <g clip-path=\"url(#pd7872669ae)\">\r\n     <use style=\"fill:#440154;stroke:#440154;\" x=\"119.230398\" xlink:href=\"#C0_0_6ac8d331f7\" y=\"143.594182\"/>\r\n    </g>\r\n    <g clip-path=\"url(#pd7872669ae)\">\r\n     <use style=\"fill:#fde725;stroke:#fde725;\" x=\"131.912216\" xlink:href=\"#C0_0_6ac8d331f7\" y=\"135.687273\"/>\r\n    </g>\r\n    <g clip-path=\"url(#pd7872669ae)\">\r\n     <use style=\"fill:#440154;stroke:#440154;\" x=\"157.275852\" xlink:href=\"#C0_0_6ac8d331f7\" y=\"214.756364\"/>\r\n    </g>\r\n    <g clip-path=\"url(#pd7872669ae)\">\r\n     <use style=\"fill:#fde725;stroke:#fde725;\" x=\"119.230398\" xlink:href=\"#C0_0_6ac8d331f7\" y=\"151.501091\"/>\r\n    </g>\r\n    <g clip-path=\"url(#pd7872669ae)\">\r\n     <use style=\"fill:#440154;stroke:#440154;\" x=\"81.184943\" xlink:href=\"#C0_0_6ac8d331f7\" y=\"159.408\"/>\r\n    </g>\r\n    <g clip-path=\"url(#pd7872669ae)\">\r\n     <use style=\"fill:#fde725;stroke:#fde725;\" x=\"360.184943\" xlink:href=\"#C0_0_6ac8d331f7\" y=\"48.711273\"/>\r\n    </g>\r\n    <g clip-path=\"url(#pd7872669ae)\">\r\n     <use style=\"fill:#440154;stroke:#440154;\" x=\"284.094034\" xlink:href=\"#C0_0_6ac8d331f7\" y=\"143.594182\"/>\r\n    </g>\r\n    <g clip-path=\"url(#pd7872669ae)\">\r\n     <use style=\"fill:#440154;stroke:#440154;\" x=\"182.639489\" xlink:href=\"#C0_0_6ac8d331f7\" y=\"167.314909\"/>\r\n    </g>\r\n    <g clip-path=\"url(#pd7872669ae)\">\r\n     <use style=\"fill:#fde725;stroke:#fde725;\" x=\"208.003125\" xlink:href=\"#C0_0_6ac8d331f7\" y=\"135.687273\"/>\r\n    </g>\r\n   </g>\r\n   <g id=\"matplotlib.axis_1\">\r\n    <g id=\"xtick_1\">\r\n     <g id=\"line2d_1\">\r\n      <path clip-path=\"url(#pd7872669ae)\" d=\"M 43.139489 224.64 \r\nL 43.139489 7.2 \r\n\" style=\"fill:none;stroke:#b0b0b0;stroke-linecap:square;stroke-width:0.8;\"/>\r\n     </g>\r\n     <g id=\"line2d_2\">\r\n      <defs>\r\n       <path d=\"M 0 0 \r\nL 0 3.5 \r\n\" id=\"m49a4d19ffa\" style=\"stroke:#000000;stroke-width:0.8;\"/>\r\n      </defs>\r\n      <g>\r\n       <use style=\"stroke:#000000;stroke-width:0.8;\" x=\"43.139489\" xlink:href=\"#m49a4d19ffa\" y=\"224.64\"/>\r\n      </g>\r\n     </g>\r\n     <g id=\"text_1\">\r\n      <!-- 35 -->\r\n      <g transform=\"translate(36.776989 239.238437)scale(0.1 -0.1)\">\r\n       <defs>\r\n        <path d=\"M 40.578125 39.3125 \r\nQ 47.65625 37.796875 51.625 33 \r\nQ 55.609375 28.21875 55.609375 21.1875 \r\nQ 55.609375 10.40625 48.1875 4.484375 \r\nQ 40.765625 -1.421875 27.09375 -1.421875 \r\nQ 22.515625 -1.421875 17.65625 -0.515625 \r\nQ 12.796875 0.390625 7.625 2.203125 \r\nL 7.625 11.71875 \r\nQ 11.71875 9.328125 16.59375 8.109375 \r\nQ 21.484375 6.890625 26.8125 6.890625 \r\nQ 36.078125 6.890625 40.9375 10.546875 \r\nQ 45.796875 14.203125 45.796875 21.1875 \r\nQ 45.796875 27.640625 41.28125 31.265625 \r\nQ 36.765625 34.90625 28.71875 34.90625 \r\nL 20.21875 34.90625 \r\nL 20.21875 43.015625 \r\nL 29.109375 43.015625 \r\nQ 36.375 43.015625 40.234375 45.921875 \r\nQ 44.09375 48.828125 44.09375 54.296875 \r\nQ 44.09375 59.90625 40.109375 62.90625 \r\nQ 36.140625 65.921875 28.71875 65.921875 \r\nQ 24.65625 65.921875 20.015625 65.03125 \r\nQ 15.375 64.15625 9.8125 62.3125 \r\nL 9.8125 71.09375 \r\nQ 15.4375 72.65625 20.34375 73.4375 \r\nQ 25.25 74.21875 29.59375 74.21875 \r\nQ 40.828125 74.21875 47.359375 69.109375 \r\nQ 53.90625 64.015625 53.90625 55.328125 \r\nQ 53.90625 49.265625 50.4375 45.09375 \r\nQ 46.96875 40.921875 40.578125 39.3125 \r\nz\r\n\" id=\"DejaVuSans-51\"/>\r\n        <path d=\"M 10.796875 72.90625 \r\nL 49.515625 72.90625 \r\nL 49.515625 64.59375 \r\nL 19.828125 64.59375 \r\nL 19.828125 46.734375 \r\nQ 21.96875 47.46875 24.109375 47.828125 \r\nQ 26.265625 48.1875 28.421875 48.1875 \r\nQ 40.625 48.1875 47.75 41.5 \r\nQ 54.890625 34.8125 54.890625 23.390625 \r\nQ 54.890625 11.625 47.5625 5.09375 \r\nQ 40.234375 -1.421875 26.90625 -1.421875 \r\nQ 22.3125 -1.421875 17.546875 -0.640625 \r\nQ 12.796875 0.140625 7.71875 1.703125 \r\nL 7.71875 11.625 \r\nQ 12.109375 9.234375 16.796875 8.0625 \r\nQ 21.484375 6.890625 26.703125 6.890625 \r\nQ 35.15625 6.890625 40.078125 11.328125 \r\nQ 45.015625 15.765625 45.015625 23.390625 \r\nQ 45.015625 31 40.078125 35.4375 \r\nQ 35.15625 39.890625 26.703125 39.890625 \r\nQ 22.75 39.890625 18.8125 39.015625 \r\nQ 14.890625 38.140625 10.796875 36.28125 \r\nz\r\n\" id=\"DejaVuSans-53\"/>\r\n       </defs>\r\n       <use xlink:href=\"#DejaVuSans-51\"/>\r\n       <use x=\"63.623047\" xlink:href=\"#DejaVuSans-53\"/>\r\n      </g>\r\n     </g>\r\n    </g>\r\n    <g id=\"xtick_2\">\r\n     <g id=\"line2d_3\">\r\n      <path clip-path=\"url(#pd7872669ae)\" d=\"M 106.54858 224.64 \r\nL 106.54858 7.2 \r\n\" style=\"fill:none;stroke:#b0b0b0;stroke-linecap:square;stroke-width:0.8;\"/>\r\n     </g>\r\n     <g id=\"line2d_4\">\r\n      <g>\r\n       <use style=\"stroke:#000000;stroke-width:0.8;\" x=\"106.54858\" xlink:href=\"#m49a4d19ffa\" y=\"224.64\"/>\r\n      </g>\r\n     </g>\r\n     <g id=\"text_2\">\r\n      <!-- 40 -->\r\n      <g transform=\"translate(100.18608 239.238437)scale(0.1 -0.1)\">\r\n       <defs>\r\n        <path d=\"M 37.796875 64.3125 \r\nL 12.890625 25.390625 \r\nL 37.796875 25.390625 \r\nz\r\nM 35.203125 72.90625 \r\nL 47.609375 72.90625 \r\nL 47.609375 25.390625 \r\nL 58.015625 25.390625 \r\nL 58.015625 17.1875 \r\nL 47.609375 17.1875 \r\nL 47.609375 0 \r\nL 37.796875 0 \r\nL 37.796875 17.1875 \r\nL 4.890625 17.1875 \r\nL 4.890625 26.703125 \r\nz\r\n\" id=\"DejaVuSans-52\"/>\r\n        <path d=\"M 31.78125 66.40625 \r\nQ 24.171875 66.40625 20.328125 58.90625 \r\nQ 16.5 51.421875 16.5 36.375 \r\nQ 16.5 21.390625 20.328125 13.890625 \r\nQ 24.171875 6.390625 31.78125 6.390625 \r\nQ 39.453125 6.390625 43.28125 13.890625 \r\nQ 47.125 21.390625 47.125 36.375 \r\nQ 47.125 51.421875 43.28125 58.90625 \r\nQ 39.453125 66.40625 31.78125 66.40625 \r\nz\r\nM 31.78125 74.21875 \r\nQ 44.046875 74.21875 50.515625 64.515625 \r\nQ 56.984375 54.828125 56.984375 36.375 \r\nQ 56.984375 17.96875 50.515625 8.265625 \r\nQ 44.046875 -1.421875 31.78125 -1.421875 \r\nQ 19.53125 -1.421875 13.0625 8.265625 \r\nQ 6.59375 17.96875 6.59375 36.375 \r\nQ 6.59375 54.828125 13.0625 64.515625 \r\nQ 19.53125 74.21875 31.78125 74.21875 \r\nz\r\n\" id=\"DejaVuSans-48\"/>\r\n       </defs>\r\n       <use xlink:href=\"#DejaVuSans-52\"/>\r\n       <use x=\"63.623047\" xlink:href=\"#DejaVuSans-48\"/>\r\n      </g>\r\n     </g>\r\n    </g>\r\n    <g id=\"xtick_3\">\r\n     <g id=\"line2d_5\">\r\n      <path clip-path=\"url(#pd7872669ae)\" d=\"M 169.95767 224.64 \r\nL 169.95767 7.2 \r\n\" style=\"fill:none;stroke:#b0b0b0;stroke-linecap:square;stroke-width:0.8;\"/>\r\n     </g>\r\n     <g id=\"line2d_6\">\r\n      <g>\r\n       <use style=\"stroke:#000000;stroke-width:0.8;\" x=\"169.95767\" xlink:href=\"#m49a4d19ffa\" y=\"224.64\"/>\r\n      </g>\r\n     </g>\r\n     <g id=\"text_3\">\r\n      <!-- 45 -->\r\n      <g transform=\"translate(163.59517 239.238437)scale(0.1 -0.1)\">\r\n       <use xlink:href=\"#DejaVuSans-52\"/>\r\n       <use x=\"63.623047\" xlink:href=\"#DejaVuSans-53\"/>\r\n      </g>\r\n     </g>\r\n    </g>\r\n    <g id=\"xtick_4\">\r\n     <g id=\"line2d_7\">\r\n      <path clip-path=\"url(#pd7872669ae)\" d=\"M 233.366761 224.64 \r\nL 233.366761 7.2 \r\n\" style=\"fill:none;stroke:#b0b0b0;stroke-linecap:square;stroke-width:0.8;\"/>\r\n     </g>\r\n     <g id=\"line2d_8\">\r\n      <g>\r\n       <use style=\"stroke:#000000;stroke-width:0.8;\" x=\"233.366761\" xlink:href=\"#m49a4d19ffa\" y=\"224.64\"/>\r\n      </g>\r\n     </g>\r\n     <g id=\"text_4\">\r\n      <!-- 50 -->\r\n      <g transform=\"translate(227.004261 239.238437)scale(0.1 -0.1)\">\r\n       <use xlink:href=\"#DejaVuSans-53\"/>\r\n       <use x=\"63.623047\" xlink:href=\"#DejaVuSans-48\"/>\r\n      </g>\r\n     </g>\r\n    </g>\r\n    <g id=\"xtick_5\">\r\n     <g id=\"line2d_9\">\r\n      <path clip-path=\"url(#pd7872669ae)\" d=\"M 296.775852 224.64 \r\nL 296.775852 7.2 \r\n\" style=\"fill:none;stroke:#b0b0b0;stroke-linecap:square;stroke-width:0.8;\"/>\r\n     </g>\r\n     <g id=\"line2d_10\">\r\n      <g>\r\n       <use style=\"stroke:#000000;stroke-width:0.8;\" x=\"296.775852\" xlink:href=\"#m49a4d19ffa\" y=\"224.64\"/>\r\n      </g>\r\n     </g>\r\n     <g id=\"text_5\">\r\n      <!-- 55 -->\r\n      <g transform=\"translate(290.413352 239.238437)scale(0.1 -0.1)\">\r\n       <use xlink:href=\"#DejaVuSans-53\"/>\r\n       <use x=\"63.623047\" xlink:href=\"#DejaVuSans-53\"/>\r\n      </g>\r\n     </g>\r\n    </g>\r\n    <g id=\"xtick_6\">\r\n     <g id=\"line2d_11\">\r\n      <path clip-path=\"url(#pd7872669ae)\" d=\"M 360.184943 224.64 \r\nL 360.184943 7.2 \r\n\" style=\"fill:none;stroke:#b0b0b0;stroke-linecap:square;stroke-width:0.8;\"/>\r\n     </g>\r\n     <g id=\"line2d_12\">\r\n      <g>\r\n       <use style=\"stroke:#000000;stroke-width:0.8;\" x=\"360.184943\" xlink:href=\"#m49a4d19ffa\" y=\"224.64\"/>\r\n      </g>\r\n     </g>\r\n     <g id=\"text_6\">\r\n      <!-- 60 -->\r\n      <g transform=\"translate(353.822443 239.238437)scale(0.1 -0.1)\">\r\n       <defs>\r\n        <path d=\"M 33.015625 40.375 \r\nQ 26.375 40.375 22.484375 35.828125 \r\nQ 18.609375 31.296875 18.609375 23.390625 \r\nQ 18.609375 15.53125 22.484375 10.953125 \r\nQ 26.375 6.390625 33.015625 6.390625 \r\nQ 39.65625 6.390625 43.53125 10.953125 \r\nQ 47.40625 15.53125 47.40625 23.390625 \r\nQ 47.40625 31.296875 43.53125 35.828125 \r\nQ 39.65625 40.375 33.015625 40.375 \r\nz\r\nM 52.59375 71.296875 \r\nL 52.59375 62.3125 \r\nQ 48.875 64.0625 45.09375 64.984375 \r\nQ 41.3125 65.921875 37.59375 65.921875 \r\nQ 27.828125 65.921875 22.671875 59.328125 \r\nQ 17.53125 52.734375 16.796875 39.40625 \r\nQ 19.671875 43.65625 24.015625 45.921875 \r\nQ 28.375 48.1875 33.59375 48.1875 \r\nQ 44.578125 48.1875 50.953125 41.515625 \r\nQ 57.328125 34.859375 57.328125 23.390625 \r\nQ 57.328125 12.15625 50.6875 5.359375 \r\nQ 44.046875 -1.421875 33.015625 -1.421875 \r\nQ 20.359375 -1.421875 13.671875 8.265625 \r\nQ 6.984375 17.96875 6.984375 36.375 \r\nQ 6.984375 53.65625 15.1875 63.9375 \r\nQ 23.390625 74.21875 37.203125 74.21875 \r\nQ 40.921875 74.21875 44.703125 73.484375 \r\nQ 48.484375 72.75 52.59375 71.296875 \r\nz\r\n\" id=\"DejaVuSans-54\"/>\r\n       </defs>\r\n       <use xlink:href=\"#DejaVuSans-54\"/>\r\n       <use x=\"63.623047\" xlink:href=\"#DejaVuSans-48\"/>\r\n      </g>\r\n     </g>\r\n    </g>\r\n    <g id=\"text_7\">\r\n     <!-- Shots -->\r\n     <g transform=\"translate(194.035937 252.916562)scale(0.1 -0.1)\">\r\n      <defs>\r\n       <path d=\"M 53.515625 70.515625 \r\nL 53.515625 60.890625 \r\nQ 47.90625 63.578125 42.921875 64.890625 \r\nQ 37.9375 66.21875 33.296875 66.21875 \r\nQ 25.25 66.21875 20.875 63.09375 \r\nQ 16.5 59.96875 16.5 54.203125 \r\nQ 16.5 49.359375 19.40625 46.890625 \r\nQ 22.3125 44.4375 30.421875 42.921875 \r\nL 36.375 41.703125 \r\nQ 47.40625 39.59375 52.65625 34.296875 \r\nQ 57.90625 29 57.90625 20.125 \r\nQ 57.90625 9.515625 50.796875 4.046875 \r\nQ 43.703125 -1.421875 29.984375 -1.421875 \r\nQ 24.8125 -1.421875 18.96875 -0.25 \r\nQ 13.140625 0.921875 6.890625 3.21875 \r\nL 6.890625 13.375 \r\nQ 12.890625 10.015625 18.65625 8.296875 \r\nQ 24.421875 6.59375 29.984375 6.59375 \r\nQ 38.421875 6.59375 43.015625 9.90625 \r\nQ 47.609375 13.234375 47.609375 19.390625 \r\nQ 47.609375 24.75 44.3125 27.78125 \r\nQ 41.015625 30.8125 33.5 32.328125 \r\nL 27.484375 33.5 \r\nQ 16.453125 35.6875 11.515625 40.375 \r\nQ 6.59375 45.0625 6.59375 53.421875 \r\nQ 6.59375 63.09375 13.40625 68.65625 \r\nQ 20.21875 74.21875 32.171875 74.21875 \r\nQ 37.3125 74.21875 42.625 73.28125 \r\nQ 47.953125 72.359375 53.515625 70.515625 \r\nz\r\n\" id=\"DejaVuSans-83\"/>\r\n       <path d=\"M 54.890625 33.015625 \r\nL 54.890625 0 \r\nL 45.90625 0 \r\nL 45.90625 32.71875 \r\nQ 45.90625 40.484375 42.875 44.328125 \r\nQ 39.84375 48.1875 33.796875 48.1875 \r\nQ 26.515625 48.1875 22.3125 43.546875 \r\nQ 18.109375 38.921875 18.109375 30.90625 \r\nL 18.109375 0 \r\nL 9.078125 0 \r\nL 9.078125 75.984375 \r\nL 18.109375 75.984375 \r\nL 18.109375 46.1875 \r\nQ 21.34375 51.125 25.703125 53.5625 \r\nQ 30.078125 56 35.796875 56 \r\nQ 45.21875 56 50.046875 50.171875 \r\nQ 54.890625 44.34375 54.890625 33.015625 \r\nz\r\n\" id=\"DejaVuSans-104\"/>\r\n       <path d=\"M 30.609375 48.390625 \r\nQ 23.390625 48.390625 19.1875 42.75 \r\nQ 14.984375 37.109375 14.984375 27.296875 \r\nQ 14.984375 17.484375 19.15625 11.84375 \r\nQ 23.34375 6.203125 30.609375 6.203125 \r\nQ 37.796875 6.203125 41.984375 11.859375 \r\nQ 46.1875 17.53125 46.1875 27.296875 \r\nQ 46.1875 37.015625 41.984375 42.703125 \r\nQ 37.796875 48.390625 30.609375 48.390625 \r\nz\r\nM 30.609375 56 \r\nQ 42.328125 56 49.015625 48.375 \r\nQ 55.71875 40.765625 55.71875 27.296875 \r\nQ 55.71875 13.875 49.015625 6.21875 \r\nQ 42.328125 -1.421875 30.609375 -1.421875 \r\nQ 18.84375 -1.421875 12.171875 6.21875 \r\nQ 5.515625 13.875 5.515625 27.296875 \r\nQ 5.515625 40.765625 12.171875 48.375 \r\nQ 18.84375 56 30.609375 56 \r\nz\r\n\" id=\"DejaVuSans-111\"/>\r\n       <path d=\"M 18.3125 70.21875 \r\nL 18.3125 54.6875 \r\nL 36.8125 54.6875 \r\nL 36.8125 47.703125 \r\nL 18.3125 47.703125 \r\nL 18.3125 18.015625 \r\nQ 18.3125 11.328125 20.140625 9.421875 \r\nQ 21.96875 7.515625 27.59375 7.515625 \r\nL 36.8125 7.515625 \r\nL 36.8125 0 \r\nL 27.59375 0 \r\nQ 17.1875 0 13.234375 3.875 \r\nQ 9.28125 7.765625 9.28125 18.015625 \r\nL 9.28125 47.703125 \r\nL 2.6875 47.703125 \r\nL 2.6875 54.6875 \r\nL 9.28125 54.6875 \r\nL 9.28125 70.21875 \r\nz\r\n\" id=\"DejaVuSans-116\"/>\r\n       <path d=\"M 44.28125 53.078125 \r\nL 44.28125 44.578125 \r\nQ 40.484375 46.53125 36.375 47.5 \r\nQ 32.28125 48.484375 27.875 48.484375 \r\nQ 21.1875 48.484375 17.84375 46.4375 \r\nQ 14.5 44.390625 14.5 40.28125 \r\nQ 14.5 37.15625 16.890625 35.375 \r\nQ 19.28125 33.59375 26.515625 31.984375 \r\nL 29.59375 31.296875 \r\nQ 39.15625 29.25 43.1875 25.515625 \r\nQ 47.21875 21.78125 47.21875 15.09375 \r\nQ 47.21875 7.46875 41.1875 3.015625 \r\nQ 35.15625 -1.421875 24.609375 -1.421875 \r\nQ 20.21875 -1.421875 15.453125 -0.5625 \r\nQ 10.6875 0.296875 5.421875 2 \r\nL 5.421875 11.28125 \r\nQ 10.40625 8.6875 15.234375 7.390625 \r\nQ 20.0625 6.109375 24.8125 6.109375 \r\nQ 31.15625 6.109375 34.5625 8.28125 \r\nQ 37.984375 10.453125 37.984375 14.40625 \r\nQ 37.984375 18.0625 35.515625 20.015625 \r\nQ 33.0625 21.96875 24.703125 23.78125 \r\nL 21.578125 24.515625 \r\nQ 13.234375 26.265625 9.515625 29.90625 \r\nQ 5.8125 33.546875 5.8125 39.890625 \r\nQ 5.8125 47.609375 11.28125 51.796875 \r\nQ 16.75 56 26.8125 56 \r\nQ 31.78125 56 36.171875 55.265625 \r\nQ 40.578125 54.546875 44.28125 53.078125 \r\nz\r\n\" id=\"DejaVuSans-115\"/>\r\n      </defs>\r\n      <use xlink:href=\"#DejaVuSans-83\"/>\r\n      <use x=\"63.476562\" xlink:href=\"#DejaVuSans-104\"/>\r\n      <use x=\"126.855469\" xlink:href=\"#DejaVuSans-111\"/>\r\n      <use x=\"188.037109\" xlink:href=\"#DejaVuSans-116\"/>\r\n      <use x=\"227.246094\" xlink:href=\"#DejaVuSans-115\"/>\r\n     </g>\r\n    </g>\r\n   </g>\r\n   <g id=\"matplotlib.axis_2\">\r\n    <g id=\"ytick_1\">\r\n     <g id=\"line2d_13\">\r\n      <path clip-path=\"url(#pd7872669ae)\" d=\"M 40.603125 191.035636 \r\nL 375.403125 191.035636 \r\n\" style=\"fill:none;stroke:#b0b0b0;stroke-linecap:square;stroke-width:0.8;\"/>\r\n     </g>\r\n     <g id=\"line2d_14\">\r\n      <defs>\r\n       <path d=\"M 0 0 \r\nL -3.5 0 \r\n\" id=\"mb104adb3ea\" style=\"stroke:#000000;stroke-width:0.8;\"/>\r\n      </defs>\r\n      <g>\r\n       <use style=\"stroke:#000000;stroke-width:0.8;\" x=\"40.603125\" xlink:href=\"#mb104adb3ea\" y=\"191.035636\"/>\r\n      </g>\r\n     </g>\r\n     <g id=\"text_8\">\r\n      <!-- 20 -->\r\n      <g transform=\"translate(20.878125 194.834855)scale(0.1 -0.1)\">\r\n       <defs>\r\n        <path d=\"M 19.1875 8.296875 \r\nL 53.609375 8.296875 \r\nL 53.609375 0 \r\nL 7.328125 0 \r\nL 7.328125 8.296875 \r\nQ 12.9375 14.109375 22.625 23.890625 \r\nQ 32.328125 33.6875 34.8125 36.53125 \r\nQ 39.546875 41.84375 41.421875 45.53125 \r\nQ 43.3125 49.21875 43.3125 52.78125 \r\nQ 43.3125 58.59375 39.234375 62.25 \r\nQ 35.15625 65.921875 28.609375 65.921875 \r\nQ 23.96875 65.921875 18.8125 64.3125 \r\nQ 13.671875 62.703125 7.8125 59.421875 \r\nL 7.8125 69.390625 \r\nQ 13.765625 71.78125 18.9375 73 \r\nQ 24.125 74.21875 28.421875 74.21875 \r\nQ 39.75 74.21875 46.484375 68.546875 \r\nQ 53.21875 62.890625 53.21875 53.421875 \r\nQ 53.21875 48.921875 51.53125 44.890625 \r\nQ 49.859375 40.875 45.40625 35.40625 \r\nQ 44.1875 33.984375 37.640625 27.21875 \r\nQ 31.109375 20.453125 19.1875 8.296875 \r\nz\r\n\" id=\"DejaVuSans-50\"/>\r\n       </defs>\r\n       <use xlink:href=\"#DejaVuSans-50\"/>\r\n       <use x=\"63.623047\" xlink:href=\"#DejaVuSans-48\"/>\r\n      </g>\r\n     </g>\r\n    </g>\r\n    <g id=\"ytick_2\">\r\n     <g id=\"line2d_15\">\r\n      <path clip-path=\"url(#pd7872669ae)\" d=\"M 40.603125 151.501091 \r\nL 375.403125 151.501091 \r\n\" style=\"fill:none;stroke:#b0b0b0;stroke-linecap:square;stroke-width:0.8;\"/>\r\n     </g>\r\n     <g id=\"line2d_16\">\r\n      <g>\r\n       <use style=\"stroke:#000000;stroke-width:0.8;\" x=\"40.603125\" xlink:href=\"#mb104adb3ea\" y=\"151.501091\"/>\r\n      </g>\r\n     </g>\r\n     <g id=\"text_9\">\r\n      <!-- 25 -->\r\n      <g transform=\"translate(20.878125 155.30031)scale(0.1 -0.1)\">\r\n       <use xlink:href=\"#DejaVuSans-50\"/>\r\n       <use x=\"63.623047\" xlink:href=\"#DejaVuSans-53\"/>\r\n      </g>\r\n     </g>\r\n    </g>\r\n    <g id=\"ytick_3\">\r\n     <g id=\"line2d_17\">\r\n      <path clip-path=\"url(#pd7872669ae)\" d=\"M 40.603125 111.966545 \r\nL 375.403125 111.966545 \r\n\" style=\"fill:none;stroke:#b0b0b0;stroke-linecap:square;stroke-width:0.8;\"/>\r\n     </g>\r\n     <g id=\"line2d_18\">\r\n      <g>\r\n       <use style=\"stroke:#000000;stroke-width:0.8;\" x=\"40.603125\" xlink:href=\"#mb104adb3ea\" y=\"111.966545\"/>\r\n      </g>\r\n     </g>\r\n     <g id=\"text_10\">\r\n      <!-- 30 -->\r\n      <g transform=\"translate(20.878125 115.765764)scale(0.1 -0.1)\">\r\n       <use xlink:href=\"#DejaVuSans-51\"/>\r\n       <use x=\"63.623047\" xlink:href=\"#DejaVuSans-48\"/>\r\n      </g>\r\n     </g>\r\n    </g>\r\n    <g id=\"ytick_4\">\r\n     <g id=\"line2d_19\">\r\n      <path clip-path=\"url(#pd7872669ae)\" d=\"M 40.603125 72.432 \r\nL 375.403125 72.432 \r\n\" style=\"fill:none;stroke:#b0b0b0;stroke-linecap:square;stroke-width:0.8;\"/>\r\n     </g>\r\n     <g id=\"line2d_20\">\r\n      <g>\r\n       <use style=\"stroke:#000000;stroke-width:0.8;\" x=\"40.603125\" xlink:href=\"#mb104adb3ea\" y=\"72.432\"/>\r\n      </g>\r\n     </g>\r\n     <g id=\"text_11\">\r\n      <!-- 35 -->\r\n      <g transform=\"translate(20.878125 76.231219)scale(0.1 -0.1)\">\r\n       <use xlink:href=\"#DejaVuSans-51\"/>\r\n       <use x=\"63.623047\" xlink:href=\"#DejaVuSans-53\"/>\r\n      </g>\r\n     </g>\r\n    </g>\r\n    <g id=\"ytick_5\">\r\n     <g id=\"line2d_21\">\r\n      <path clip-path=\"url(#pd7872669ae)\" d=\"M 40.603125 32.897455 \r\nL 375.403125 32.897455 \r\n\" style=\"fill:none;stroke:#b0b0b0;stroke-linecap:square;stroke-width:0.8;\"/>\r\n     </g>\r\n     <g id=\"line2d_22\">\r\n      <g>\r\n       <use style=\"stroke:#000000;stroke-width:0.8;\" x=\"40.603125\" xlink:href=\"#mb104adb3ea\" y=\"32.897455\"/>\r\n      </g>\r\n     </g>\r\n     <g id=\"text_12\">\r\n      <!-- 40 -->\r\n      <g transform=\"translate(20.878125 36.696673)scale(0.1 -0.1)\">\r\n       <use xlink:href=\"#DejaVuSans-52\"/>\r\n       <use x=\"63.623047\" xlink:href=\"#DejaVuSans-48\"/>\r\n      </g>\r\n     </g>\r\n    </g>\r\n    <g id=\"text_13\">\r\n     <!-- Goals -->\r\n     <g transform=\"translate(14.798438 129.911406)rotate(-90)scale(0.1 -0.1)\">\r\n      <defs>\r\n       <path d=\"M 59.515625 10.40625 \r\nL 59.515625 29.984375 \r\nL 43.40625 29.984375 \r\nL 43.40625 38.09375 \r\nL 69.28125 38.09375 \r\nL 69.28125 6.78125 \r\nQ 63.578125 2.734375 56.6875 0.65625 \r\nQ 49.8125 -1.421875 42 -1.421875 \r\nQ 24.90625 -1.421875 15.25 8.5625 \r\nQ 5.609375 18.5625 5.609375 36.375 \r\nQ 5.609375 54.25 15.25 64.234375 \r\nQ 24.90625 74.21875 42 74.21875 \r\nQ 49.125 74.21875 55.546875 72.453125 \r\nQ 61.96875 70.703125 67.390625 67.28125 \r\nL 67.390625 56.78125 \r\nQ 61.921875 61.421875 55.765625 63.765625 \r\nQ 49.609375 66.109375 42.828125 66.109375 \r\nQ 29.4375 66.109375 22.71875 58.640625 \r\nQ 16.015625 51.171875 16.015625 36.375 \r\nQ 16.015625 21.625 22.71875 14.15625 \r\nQ 29.4375 6.6875 42.828125 6.6875 \r\nQ 48.046875 6.6875 52.140625 7.59375 \r\nQ 56.25 8.5 59.515625 10.40625 \r\nz\r\n\" id=\"DejaVuSans-71\"/>\r\n       <path d=\"M 34.28125 27.484375 \r\nQ 23.390625 27.484375 19.1875 25 \r\nQ 14.984375 22.515625 14.984375 16.5 \r\nQ 14.984375 11.71875 18.140625 8.90625 \r\nQ 21.296875 6.109375 26.703125 6.109375 \r\nQ 34.1875 6.109375 38.703125 11.40625 \r\nQ 43.21875 16.703125 43.21875 25.484375 \r\nL 43.21875 27.484375 \r\nz\r\nM 52.203125 31.203125 \r\nL 52.203125 0 \r\nL 43.21875 0 \r\nL 43.21875 8.296875 \r\nQ 40.140625 3.328125 35.546875 0.953125 \r\nQ 30.953125 -1.421875 24.3125 -1.421875 \r\nQ 15.921875 -1.421875 10.953125 3.296875 \r\nQ 6 8.015625 6 15.921875 \r\nQ 6 25.140625 12.171875 29.828125 \r\nQ 18.359375 34.515625 30.609375 34.515625 \r\nL 43.21875 34.515625 \r\nL 43.21875 35.40625 \r\nQ 43.21875 41.609375 39.140625 45 \r\nQ 35.0625 48.390625 27.6875 48.390625 \r\nQ 23 48.390625 18.546875 47.265625 \r\nQ 14.109375 46.140625 10.015625 43.890625 \r\nL 10.015625 52.203125 \r\nQ 14.9375 54.109375 19.578125 55.046875 \r\nQ 24.21875 56 28.609375 56 \r\nQ 40.484375 56 46.34375 49.84375 \r\nQ 52.203125 43.703125 52.203125 31.203125 \r\nz\r\n\" id=\"DejaVuSans-97\"/>\r\n       <path d=\"M 9.421875 75.984375 \r\nL 18.40625 75.984375 \r\nL 18.40625 0 \r\nL 9.421875 0 \r\nz\r\n\" id=\"DejaVuSans-108\"/>\r\n      </defs>\r\n      <use xlink:href=\"#DejaVuSans-71\"/>\r\n      <use x=\"77.490234\" xlink:href=\"#DejaVuSans-111\"/>\r\n      <use x=\"138.671875\" xlink:href=\"#DejaVuSans-97\"/>\r\n      <use x=\"199.951172\" xlink:href=\"#DejaVuSans-108\"/>\r\n      <use x=\"227.734375\" xlink:href=\"#DejaVuSans-115\"/>\r\n     </g>\r\n    </g>\r\n   </g>\r\n   <g id=\"patch_3\">\r\n    <path d=\"M 40.603125 224.64 \r\nL 40.603125 7.2 \r\n\" style=\"fill:none;stroke:#000000;stroke-linecap:square;stroke-linejoin:miter;stroke-width:0.8;\"/>\r\n   </g>\r\n   <g id=\"patch_4\">\r\n    <path d=\"M 375.403125 224.64 \r\nL 375.403125 7.2 \r\n\" style=\"fill:none;stroke:#000000;stroke-linecap:square;stroke-linejoin:miter;stroke-width:0.8;\"/>\r\n   </g>\r\n   <g id=\"patch_5\">\r\n    <path d=\"M 40.603125 224.64 \r\nL 375.403125 224.64 \r\n\" style=\"fill:none;stroke:#000000;stroke-linecap:square;stroke-linejoin:miter;stroke-width:0.8;\"/>\r\n   </g>\r\n   <g id=\"patch_6\">\r\n    <path d=\"M 40.603125 7.2 \r\nL 375.403125 7.2 \r\n\" style=\"fill:none;stroke:#000000;stroke-linecap:square;stroke-linejoin:miter;stroke-width:0.8;\"/>\r\n   </g>\r\n  </g>\r\n </g>\r\n <defs>\r\n  <clipPath id=\"pd7872669ae\">\r\n   <rect height=\"217.44\" width=\"334.8\" x=\"40.603125\" y=\"7.2\"/>\r\n  </clipPath>\r\n </defs>\r\n</svg>\r\n",
      "image/png": "[encoded data removed]"
     },
     "metadata": {
      "needs_background": "light"
     }
    }
   ],
   "source": [
    "X = teams_df[['Shots', 'Goals', 'match_result']]\n",
    "\n",
    "plt.scatter(X['Shots'], X['Goals'], c=X['match_result'], s=30)\n",
    "plt.xlabel('Shots')\n",
    "plt.ylabel('Goals')\n",
    "plt.grid()\n",
    "\n",
    "#ax = plt.gca()\n",
    "#for i in range(0,len(teams_df)):\n",
    "#    ax.annotate(teams_df.iloc[i,:]['Team'], (X.iloc[i,0], X.iloc[i,1]))\n",
    "\n",
    "plt.show()"
   ]
  },
  {
   "source": [
    "# Variables significativas y limpieza de datos"
   ],
   "cell_type": "markdown",
   "metadata": {}
  },
  {
   "cell_type": "code",
   "execution_count": 589,
   "metadata": {},
   "outputs": [
    {
     "output_type": "execute_result",
     "data": {
      "text/plain": [
       "   Team  7mPGoals  7mPMissed  6mCGoals  6mCMissed  WingGoals  WingMissed  \\\n",
       "0   CRO         4          2         8          1          7           4   \n",
       "1   DEN         0          0         2          0          5           6   \n",
       "2   CRO         2          2         8          0          5           3   \n",
       "3   GER         8          1         2          0          4           6   \n",
       "4   CRO         1          0         6          4          9           1   \n",
       "..  ...       ...        ...       ...        ...        ...         ...   \n",
       "89  SRB         4          2         6          1          7           4   \n",
       "90  HUN         2          0         1          1         10           4   \n",
       "91  SRB         0          2         5          4         13           9   \n",
       "92  CZE         4          2         3          0          9           5   \n",
       "93  SWE         5          5         7          1          4           5   \n",
       "\n",
       "    BTGoals  BTMissed  FBGoals  FBMissed  FTOGoals  FTOMissed  9mGoals  \\\n",
       "0         2         0        0         2         0          0        4   \n",
       "1         4         1        1         2         0          0        7   \n",
       "2         2         0        0         0         0          0        6   \n",
       "3         0         1        2         2         0          0        4   \n",
       "4         2         0        1         2         0          0        8   \n",
       "..      ...       ...      ...       ...       ...        ...      ...   \n",
       "89        2         1        1         0         0          0        4   \n",
       "90        5         2        9         4         0          2       11   \n",
       "91        2         1        1         1         0          0        5   \n",
       "92        0         1        0         2         0          0        7   \n",
       "93        4         0        0         0         0          0        7   \n",
       "\n",
       "    9mMissed  RC  2M  AS  R7  ST  BS  P7  TO  \n",
       "0         14   0   1  17   6   4   4   0   8  \n",
       "1         16   0   2   7   0   4   7   6  10  \n",
       "2         12   0   5  13   4   0   2   9   8  \n",
       "3         14   0   5  16   9   3   2   4   6  \n",
       "4         10   0   4   9   1   1   2   5  13  \n",
       "..       ...  ..  ..  ..  ..  ..  ..  ..  ..  \n",
       "89         6   0   3  14   6   4   3   3  11  \n",
       "90         9   0   0  18   2   5   4   2   9  \n",
       "91        11   0   3  17   2   3   0   2  13  \n",
       "92        13   0   4   5   6   1   3  10  11  \n",
       "93        10   0   7  13  10   1   2   6   9  \n",
       "\n",
       "[94 rows x 23 columns]"
      ],
      "text/html": "<div>\n<style scoped>\n    .dataframe tbody tr th:only-of-type {\n        vertical-align: middle;\n    }\n\n    .dataframe tbody tr th {\n        vertical-align: top;\n    }\n\n    .dataframe thead th {\n        text-align: right;\n    }\n</style>\n<table border=\"1\" class=\"dataframe\">\n  <thead>\n    <tr style=\"text-align: right;\">\n      <th></th>\n      <th>Team</th>\n      <th>7mPGoals</th>\n      <th>7mPMissed</th>\n      <th>6mCGoals</th>\n      <th>6mCMissed</th>\n      <th>WingGoals</th>\n      <th>WingMissed</th>\n      <th>BTGoals</th>\n      <th>BTMissed</th>\n      <th>FBGoals</th>\n      <th>FBMissed</th>\n      <th>FTOGoals</th>\n      <th>FTOMissed</th>\n      <th>9mGoals</th>\n      <th>9mMissed</th>\n      <th>RC</th>\n      <th>2M</th>\n      <th>AS</th>\n      <th>R7</th>\n      <th>ST</th>\n      <th>BS</th>\n      <th>P7</th>\n      <th>TO</th>\n    </tr>\n  </thead>\n  <tbody>\n    <tr>\n      <th>0</th>\n      <td>CRO</td>\n      <td>4</td>\n      <td>2</td>\n      <td>8</td>\n      <td>1</td>\n      <td>7</td>\n      <td>4</td>\n      <td>2</td>\n      <td>0</td>\n      <td>0</td>\n      <td>2</td>\n      <td>0</td>\n      <td>0</td>\n      <td>4</td>\n      <td>14</td>\n      <td>0</td>\n      <td>1</td>\n      <td>17</td>\n      <td>6</td>\n      <td>4</td>\n      <td>4</td>\n      <td>0</td>\n      <td>8</td>\n    </tr>\n    <tr>\n      <th>1</th>\n      <td>DEN</td>\n      <td>0</td>\n      <td>0</td>\n      <td>2</td>\n      <td>0</td>\n      <td>5</td>\n      <td>6</td>\n      <td>4</td>\n      <td>1</td>\n      <td>1</td>\n      <td>2</td>\n      <td>0</td>\n      <td>0</td>\n      <td>7</td>\n      <td>16</td>\n      <td>0</td>\n      <td>2</td>\n      <td>7</td>\n      <td>0</td>\n      <td>4</td>\n      <td>7</td>\n      <td>6</td>\n      <td>10</td>\n    </tr>\n    <tr>\n      <th>2</th>\n      <td>CRO</td>\n      <td>2</td>\n      <td>2</td>\n      <td>8</td>\n      <td>0</td>\n      <td>5</td>\n      <td>3</td>\n      <td>2</td>\n      <td>0</td>\n      <td>0</td>\n      <td>0</td>\n      <td>0</td>\n      <td>0</td>\n      <td>6</td>\n      <td>12</td>\n      <td>0</td>\n      <td>5</td>\n      <td>13</td>\n      <td>4</td>\n      <td>0</td>\n      <td>2</td>\n      <td>9</td>\n      <td>8</td>\n    </tr>\n    <tr>\n      <th>3</th>\n      <td>GER</td>\n      <td>8</td>\n      <td>1</td>\n      <td>2</td>\n      <td>0</td>\n      <td>4</td>\n      <td>6</td>\n      <td>0</td>\n      <td>1</td>\n      <td>2</td>\n      <td>2</td>\n      <td>0</td>\n      <td>0</td>\n      <td>4</td>\n      <td>14</td>\n      <td>0</td>\n      <td>5</td>\n      <td>16</td>\n      <td>9</td>\n      <td>3</td>\n      <td>2</td>\n      <td>4</td>\n      <td>6</td>\n    </tr>\n    <tr>\n      <th>4</th>\n      <td>CRO</td>\n      <td>1</td>\n      <td>0</td>\n      <td>6</td>\n      <td>4</td>\n      <td>9</td>\n      <td>1</td>\n      <td>2</td>\n      <td>0</td>\n      <td>1</td>\n      <td>2</td>\n      <td>0</td>\n      <td>0</td>\n      <td>8</td>\n      <td>10</td>\n      <td>0</td>\n      <td>4</td>\n      <td>9</td>\n      <td>1</td>\n      <td>1</td>\n      <td>2</td>\n      <td>5</td>\n      <td>13</td>\n    </tr>\n    <tr>\n      <th>...</th>\n      <td>...</td>\n      <td>...</td>\n      <td>...</td>\n      <td>...</td>\n      <td>...</td>\n      <td>...</td>\n      <td>...</td>\n      <td>...</td>\n      <td>...</td>\n      <td>...</td>\n      <td>...</td>\n      <td>...</td>\n      <td>...</td>\n      <td>...</td>\n      <td>...</td>\n      <td>...</td>\n      <td>...</td>\n      <td>...</td>\n      <td>...</td>\n      <td>...</td>\n      <td>...</td>\n      <td>...</td>\n      <td>...</td>\n    </tr>\n    <tr>\n      <th>89</th>\n      <td>SRB</td>\n      <td>4</td>\n      <td>2</td>\n      <td>6</td>\n      <td>1</td>\n      <td>7</td>\n      <td>4</td>\n      <td>2</td>\n      <td>1</td>\n      <td>1</td>\n      <td>0</td>\n      <td>0</td>\n      <td>0</td>\n      <td>4</td>\n      <td>6</td>\n      <td>0</td>\n      <td>3</td>\n      <td>14</td>\n      <td>6</td>\n      <td>4</td>\n      <td>3</td>\n      <td>3</td>\n      <td>11</td>\n    </tr>\n    <tr>\n      <th>90</th>\n      <td>HUN</td>\n      <td>2</td>\n      <td>0</td>\n      <td>1</td>\n      <td>1</td>\n      <td>10</td>\n      <td>4</td>\n      <td>5</td>\n      <td>2</td>\n      <td>9</td>\n      <td>4</td>\n      <td>0</td>\n      <td>2</td>\n      <td>11</td>\n      <td>9</td>\n      <td>0</td>\n      <td>0</td>\n      <td>18</td>\n      <td>2</td>\n      <td>5</td>\n      <td>4</td>\n      <td>2</td>\n      <td>9</td>\n    </tr>\n    <tr>\n      <th>91</th>\n      <td>SRB</td>\n      <td>0</td>\n      <td>2</td>\n      <td>5</td>\n      <td>4</td>\n      <td>13</td>\n      <td>9</td>\n      <td>2</td>\n      <td>1</td>\n      <td>1</td>\n      <td>1</td>\n      <td>0</td>\n      <td>0</td>\n      <td>5</td>\n      <td>11</td>\n      <td>0</td>\n      <td>3</td>\n      <td>17</td>\n      <td>2</td>\n      <td>3</td>\n      <td>0</td>\n      <td>2</td>\n      <td>13</td>\n    </tr>\n    <tr>\n      <th>92</th>\n      <td>CZE</td>\n      <td>4</td>\n      <td>2</td>\n      <td>3</td>\n      <td>0</td>\n      <td>9</td>\n      <td>5</td>\n      <td>0</td>\n      <td>1</td>\n      <td>0</td>\n      <td>2</td>\n      <td>0</td>\n      <td>0</td>\n      <td>7</td>\n      <td>13</td>\n      <td>0</td>\n      <td>4</td>\n      <td>5</td>\n      <td>6</td>\n      <td>1</td>\n      <td>3</td>\n      <td>10</td>\n      <td>11</td>\n    </tr>\n    <tr>\n      <th>93</th>\n      <td>SWE</td>\n      <td>5</td>\n      <td>5</td>\n      <td>7</td>\n      <td>1</td>\n      <td>4</td>\n      <td>5</td>\n      <td>4</td>\n      <td>0</td>\n      <td>0</td>\n      <td>0</td>\n      <td>0</td>\n      <td>0</td>\n      <td>7</td>\n      <td>10</td>\n      <td>0</td>\n      <td>7</td>\n      <td>13</td>\n      <td>10</td>\n      <td>1</td>\n      <td>2</td>\n      <td>6</td>\n      <td>9</td>\n    </tr>\n  </tbody>\n</table>\n<p>94 rows × 23 columns</p>\n</div>"
     },
     "metadata": {},
     "execution_count": 589
    }
   ],
   "source": [
    "# ['Phase','Match','Team','No','Name','Goals','Shots','%','7m%','7mPGoals','7mPMissed','6mCGoals','6mCMissed','WingGoals','WingMissed','BTGoals','BTMissed','FBGoals','FBMissed','FTOGoals','FTOMissed','9mGoals','9mMissed','YC','RC','2M','2+2','AS','R7','ST','BS','P7','TO','Time','scoring','MVP']\n",
    "teams_df_all = df.groupby(['Match', 'Team']).sum().reset_index()\n",
    "teams_df_all\n",
    "teams_df_all['Team'] = teams_df_all.apply(lambda row: row.Team.strip(), axis=1)\n",
    "teams_df_all['match_result'] = teams_df.apply(lambda row: get_result(get_match(matches, row.Match), row.Team), axis=1)\n",
    "\n",
    "\n",
    "valid_cols = ['Team','match_result','7mPGoals','7mPMissed','6mCGoals','6mCMissed','WingGoals','WingMissed','BTGoals','BTMissed','FBGoals','FBMissed','FTOGoals','FTOMissed','9mGoals','9mMissed','RC','2M','AS','R7','ST','BS','P7','TO']\n",
    "valid_cols_df = teams_df_all[valid_cols]\n",
    "valid_cols_df\n"
   ]
  },
  {
   "source": [
    "# Análisis PCA"
   ],
   "cell_type": "markdown",
   "metadata": {}
  },
  {
   "source": [
    "Realizamos un análisis de componentes principales con distintas configuraciones para obtener las varianzas explicadas. "
   ],
   "cell_type": "markdown",
   "metadata": {}
  },
  {
   "cell_type": "code",
   "execution_count": 590,
   "metadata": {},
   "outputs": [],
   "source": [
    "from sklearn import preprocessing\n",
    "from sklearn.decomposition import PCA\n",
    "\n",
    "scaler_names = ['Standard', 'MinMax']\n",
    "scalers = [preprocessing.StandardScaler(), preprocessing.MinMaxScaler()]\n",
    "n_components = [2, 3]\n",
    "\n",
    "X = valid_cols_df.drop('Team', 1)"
   ]
  },
  {
   "cell_type": "code",
   "execution_count": 591,
   "metadata": {},
   "outputs": [
    {
     "output_type": "stream",
     "name": "stdout",
     "text": [
      "[scaler=Standard, n=2] Explained variance: 25.94% [0.15613971 0.1032349 ]\n[scaler=Standard, n=3] Explained variance: 34.56% [0.15613971 0.1032349  0.08621954]\n[scaler=MinMax, n=2] Explained variance: 27.12% [0.16310787 0.10806106]\n[scaler=MinMax, n=3] Explained variance: 36.43% [0.16310787 0.10806106 0.09314307]\n"
     ]
    }
   ],
   "source": [
    "for scaler_name, scaler in zip(scaler_names, scalers):\n",
    "    X_scaled = scaler.fit_transform(X)\n",
    "    \n",
    "    estimator = PCA(n_components=20)\n",
    "    X_pca = estimator.fit_transform(X_scaled)\n",
    "    \n",
    "    explained_variances = estimator.explained_variance_ratio_.cumsum()\n",
    "    \n",
    "    for n in n_components:\n",
    "        print(f\"[scaler={scaler_name}, n={n}] Explained variance: {100*explained_variances[n-1]:.2f}% {estimator.explained_variance_ratio_[:n]}\")"
   ]
  }
 ],
 "metadata": {
  "kernelspec": {
   "name": "python395jvsc74a57bd0ae0b618bbadae4ddb367c832f79730f4b65b3000e6684ed7cde2de2639f96615",
   "display_name": "Python 3.9.5 64-bit ('PythonSoftwareFoundation.Python.3.9_qbz5n2kfra8p0')"
  },
  "language_info": {
   "codemirror_mode": {
    "name": "ipython",
    "version": 3
   },
   "file_extension": ".py",
   "mimetype": "text/x-python",
   "name": "python",
   "nbconvert_exporter": "python",
   "pygments_lexer": "ipython3",
   "version": "3.9.5"
  },
  "metadata": {
   "interpreter": {
    "hash": "ae0b618bbadae4ddb367c832f79730f4b65b3000e6684ed7cde2de2639f96615"
   }
  }
 },
 "nbformat": 4,
 "nbformat_minor": 2
}
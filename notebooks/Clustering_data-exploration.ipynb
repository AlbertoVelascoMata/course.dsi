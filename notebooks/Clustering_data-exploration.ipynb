{
 "cells": [
  {
   "cell_type": "code",
   "execution_count": 1,
   "metadata": {},
   "outputs": [],
   "source": [
    "import pandas as pd"
   ]
  },
  {
   "cell_type": "code",
   "execution_count": 4,
   "metadata": {},
   "outputs": [],
   "source": [
    "df = pd.read_excel('../data/Handball Woman European Data Set.xlsx')"
   ]
  },
  {
   "cell_type": "code",
   "execution_count": 9,
   "metadata": {},
   "outputs": [
    {
     "data": {
      "text/plain": [
       "Unnamed: 0      int64\n",
       "Phase          object\n",
       "Match          object\n",
       "Team           object\n",
       "No              int64\n",
       "Name           object\n",
       "Goals           int64\n",
       "Shots           int64\n",
       "%               int64\n",
       "7m%             int64\n",
       "7mPGoals        int64\n",
       "7mPMissed       int64\n",
       "6mCGoals        int64\n",
       "6mCMissed       int64\n",
       "WingGoals       int64\n",
       "WingMissed      int64\n",
       "BTGoals         int64\n",
       "BTMissed        int64\n",
       "FBGoals         int64\n",
       "FBMissed        int64\n",
       "FTOGoals        int64\n",
       "FTOMissed       int64\n",
       "9mGoals         int64\n",
       "9mMissed        int64\n",
       "YC              int64\n",
       "RC              int64\n",
       "2M              int64\n",
       "2+2             int64\n",
       "AS              int64\n",
       "R7              int64\n",
       "ST              int64\n",
       "BS              int64\n",
       "P7              int64\n",
       "TO              int64\n",
       "Time          float64\n",
       "scoring       float64\n",
       "MVP             int64\n",
       "dtype: object"
      ]
     },
     "execution_count": 9,
     "metadata": {},
     "output_type": "execute_result"
    }
   ],
   "source": [
    "df.dtypes"
   ]
  },
  {
   "cell_type": "code",
   "execution_count": null,
   "metadata": {},
   "outputs": [],
   "source": [
    "# TODO: Juntar los datos por jugadoras haciendo la suma"
   ]
  },
  {
   "cell_type": "code",
   "execution_count": 25,
   "metadata": {},
   "outputs": [
    {
     "data": {
      "text/html": [
       "<div>\n",
       "<style scoped>\n",
       "    .dataframe tbody tr th:only-of-type {\n",
       "        vertical-align: middle;\n",
       "    }\n",
       "\n",
       "    .dataframe tbody tr th {\n",
       "        vertical-align: top;\n",
       "    }\n",
       "\n",
       "    .dataframe thead th {\n",
       "        text-align: right;\n",
       "    }\n",
       "</style>\n",
       "<table border=\"1\" class=\"dataframe\">\n",
       "  <thead>\n",
       "    <tr style=\"text-align: right;\">\n",
       "      <th></th>\n",
       "      <th>Goals</th>\n",
       "      <th>Shots</th>\n",
       "    </tr>\n",
       "  </thead>\n",
       "  <tbody>\n",
       "    <tr>\n",
       "      <th>0</th>\n",
       "      <td>1</td>\n",
       "      <td>1</td>\n",
       "    </tr>\n",
       "    <tr>\n",
       "      <th>1</th>\n",
       "      <td>1</td>\n",
       "      <td>1</td>\n",
       "    </tr>\n",
       "    <tr>\n",
       "      <th>2</th>\n",
       "      <td>3</td>\n",
       "      <td>3</td>\n",
       "    </tr>\n",
       "    <tr>\n",
       "      <th>3</th>\n",
       "      <td>0</td>\n",
       "      <td>1</td>\n",
       "    </tr>\n",
       "    <tr>\n",
       "      <th>4</th>\n",
       "      <td>2</td>\n",
       "      <td>6</td>\n",
       "    </tr>\n",
       "    <tr>\n",
       "      <th>...</th>\n",
       "      <td>...</td>\n",
       "      <td>...</td>\n",
       "    </tr>\n",
       "    <tr>\n",
       "      <th>1495</th>\n",
       "      <td>0</td>\n",
       "      <td>0</td>\n",
       "    </tr>\n",
       "    <tr>\n",
       "      <th>1496</th>\n",
       "      <td>0</td>\n",
       "      <td>0</td>\n",
       "    </tr>\n",
       "    <tr>\n",
       "      <th>1497</th>\n",
       "      <td>3</td>\n",
       "      <td>4</td>\n",
       "    </tr>\n",
       "    <tr>\n",
       "      <th>1498</th>\n",
       "      <td>1</td>\n",
       "      <td>2</td>\n",
       "    </tr>\n",
       "    <tr>\n",
       "      <th>1499</th>\n",
       "      <td>0</td>\n",
       "      <td>0</td>\n",
       "    </tr>\n",
       "  </tbody>\n",
       "</table>\n",
       "<p>1500 rows × 2 columns</p>\n",
       "</div>"
      ],
      "text/plain": [
       "      Goals  Shots\n",
       "0         1      1\n",
       "1         1      1\n",
       "2         3      3\n",
       "3         0      1\n",
       "4         2      6\n",
       "...     ...    ...\n",
       "1495      0      0\n",
       "1496      0      0\n",
       "1497      3      4\n",
       "1498      1      2\n",
       "1499      0      0\n",
       "\n",
       "[1500 rows x 2 columns]"
      ]
     },
     "execution_count": 25,
     "metadata": {},
     "output_type": "execute_result"
    }
   ],
   "source": [
    "df2 = df[['Goals', 'Shots']]\n",
    "df2"
   ]
  },
  {
   "cell_type": "code",
   "execution_count": 15,
   "metadata": {},
   "outputs": [],
   "source": [
    "from sklearn import preprocessing \n",
    "min_max_scaler = preprocessing.MinMaxScaler()\n",
    "datanorm = min_max_scaler.fit_transform(df2)"
   ]
  },
  {
   "cell_type": "code",
   "execution_count": 26,
   "metadata": {},
   "outputs": [],
   "source": [
    "datanorm = df2"
   ]
  },
  {
   "cell_type": "code",
   "execution_count": 27,
   "metadata": {},
   "outputs": [],
   "source": [
    "# parameters\n",
    "init = 'random' # initialization method \n",
    "\n",
    "# to run 10 times with different random centroids \n",
    "# to choose the final model as the one with the lowest SSE\n",
    "iterations = 10\n",
    "\n",
    "# maximum number of iterations for each single run\n",
    "max_iter = 300 \n",
    "\n",
    "# controls the tolerance with regard to the changes in the \n",
    "# within-cluster sum-squared-error to declare convergence\n",
    "\n",
    "tol = 1e-04 \n",
    "\n",
    " # random seed\n",
    "random_state = 0\n",
    "\n",
    "from sklearn.cluster import KMeans\n",
    "from sklearn import metrics\n",
    "\n",
    "distortions = []\n",
    "silhouettes = []\n",
    "\n",
    "for i in range(2, 11):\n",
    "    km = KMeans(i, init, n_init = iterations ,max_iter= max_iter, tol = tol,random_state = random_state)\n",
    "    labels = km.fit_predict(datanorm)\n",
    "    distortions.append(km.inertia_)\n",
    "    silhouettes.append(metrics.silhouette_score(datanorm, labels))"
   ]
  },
  {
   "cell_type": "code",
   "execution_count": 28,
   "metadata": {},
   "outputs": [
    {
     "data": {
      "image/png": "[encoded data removed]",
      "text/plain": [
       "<Figure size 432x288 with 1 Axes>"
      ]
     },
     "metadata": {
      "needs_background": "light"
     },
     "output_type": "display_data"
    }
   ],
   "source": [
    "import matplotlib.pyplot as plt\n",
    "plt.plot(range(2,11), distortions, marker='o')\n",
    "plt.xlabel('K')\n",
    "plt.ylabel('Distortion')\n",
    "plt.show()"
   ]
  },
  {
   "cell_type": "code",
   "execution_count": 29,
   "metadata": {},
   "outputs": [
    {
     "data": {
      "image/png": "[encoded data removed]",
      "text/plain": [
       "<Figure size 432x288 with 1 Axes>"
      ]
     },
     "metadata": {
      "needs_background": "light"
     },
     "output_type": "display_data"
    }
   ],
   "source": [
    "plt.plot(range(2,11), silhouettes , marker='o')\n",
    "plt.xlabel('K')\n",
    "plt.ylabel('Silohouette')\n",
    "plt.show()"
   ]
  },
  {
   "cell_type": "code",
   "execution_count": 30,
   "metadata": {},
   "outputs": [],
   "source": [
    "k = 5\n",
    "\n",
    "km = KMeans(k, init, n_init = iterations ,\n",
    "            max_iter= max_iter, tol = tol, random_state = random_state)\n",
    "\n",
    "y_km = km.fit_predict(datanorm)"
   ]
  },
  {
   "cell_type": "code",
   "execution_count": 31,
   "metadata": {},
   "outputs": [
    {
     "name": "stdout",
     "output_type": "stream",
     "text": [
      "Silhouette Coefficient: 0.554\n",
      "Distortion: 1936.52\n"
     ]
    }
   ],
   "source": [
    "from sklearn import metrics\n",
    "print(\"Silhouette Coefficient: %0.3f\"\n",
    "      % metrics.silhouette_score(datanorm, y_km))\n",
    "      \n",
    "print('Distortion: %.2f' % km.inertia_)"
   ]
  },
  {
   "cell_type": "code",
   "execution_count": 35,
   "metadata": {},
   "outputs": [
    {
     "data": {
      "image/png": "[encoded data removed]",
      "text/plain": [
       "<Figure size 432x288 with 1 Axes>"
      ]
     },
     "metadata": {
      "needs_background": "light"
     },
     "output_type": "display_data"
    }
   ],
   "source": [
    "#plotting orginal points with color related to label\n",
    "#plt.scatter(datanorm[:,0], datanorm[:,1], c=km.labels_,s=50)\n",
    "plt.scatter(datanorm['Goals'], datanorm['Shots'], c=km.labels_,s=50)\n",
    "# plotting centroids\n",
    "plt.scatter(km.cluster_centers_[:,0], km.cluster_centers_[:,1], c='red',s=50)\n",
    "# \n",
    "plt.grid()\n",
    "plt.show()\n",
    "      "
   ]
  }
 ],
 "metadata": {
  "kernelspec": {
   "display_name": "Python 3",
   "language": "python",
   "name": "python3"
  },
  "language_info": {
   "codemirror_mode": {
    "name": "ipython",
    "version": 3
   },
   "file_extension": ".py",
   "mimetype": "text/x-python",
   "name": "python",
   "nbconvert_exporter": "python",
   "pygments_lexer": "ipython3",
   "version": "3.6.6"
  }
 },
 "nbformat": 4,
 "nbformat_minor": 2
}
